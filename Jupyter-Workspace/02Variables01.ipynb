{
 "cells": [
  {
   "cell_type": "code",
   "execution_count": 52,
   "id": "7769ad3e-5b38-4230-8da3-0289d795f538",
   "metadata": {},
   "outputs": [
    {
     "name": "stdout",
     "output_type": "stream",
     "text": [
      "First Name: Ada\n",
      "Last Name: Lovelace\n",
      "Profession: computer programmer\n",
      "BirthYear: 1815\n",
      "Programmers: AdaLovelace is a British computer programmer born in 1815\n",
      "She is commonly referred to as the first computer programmer\n",
      "In 1842 she published the first Algorithm, the analytical engine, at the age of 27\n",
      "She was a British who lived in London, England until her passing in 1852 at the age of 37\n"
     ]
    }
   ],
   "source": [
    "# Create a variable named `subject` with no value (None).\n",
    "subject = None\n",
    "# Assign a value of \"Programmers to the variable `subject`.\n",
    "subject = \"Programmers\"\n",
    "# Create a variable, `first_name`, and assign it a value of an empty string.\n",
    "first_name =\"\"\n",
    "# Assign a value of \"Ada\" to the variable `first_name`.\n",
    "first_name = \"Ada\"\n",
    "# Create a variable, `last_name`, and assign it a value of a string, \"Lovelace\".\n",
    "last_name = \"Lovelace\"\n",
    "# Create a variable, `full_name`, and assign it a value of the combination of `first_name` and `last_name` with a space.\n",
    "full_name = first_name + last_name\n",
    "# Create a variable, `profession`, and assign it a value of a string, \"Computer Programmer\".\n",
    "profession = \"computer programmer\"\n",
    "# Create a variable, `known_for`, and assign it a value of a string, \"First Computer Programmer\".\n",
    "known_for = \"first computer programmer\"\n",
    "# Create a variable, `first_algorithm`, and assign it a value of a string, \"Analytical Engine\".\n",
    "first_algorithm = \"analytical engine\"\n",
    "# Create a variable, `city_location`, and assign it a value of a string, \"London\".\n",
    "city_location = \"London\"\n",
    "# Create a variable, `country_location`, and assign it a value of a string, \"England\".\n",
    "country_location = \"England\"\n",
    "# Create a variable, `nationality`, and assign it a value of a string, \"British\".\n",
    "nationality = \"British\"\n",
    "# Topic: Integers\n",
    "# Create a variable, `birth_year`, and assign it with an integer of 1815.\n",
    "birth_year = 1815\n",
    "death_year = 1852\n",
    "age_at_passing = death_year - birth_year\n",
    "year_of_publish = 1842\n",
    "\n",
    "# Create a variable, `death_year`, and assign it with an integer of 1852.\n",
    "# Create a variable, `age_at_passing`, and assign it a value of death_year minus birth_year.\n",
    "# Create a variable, `year_of_publish`, and assign it with an integer of 1842.\n",
    "#Topic: Print\n",
    "# Print: \"First Name: \" and `first_name`.\n",
    "print(f\"First Name: {first_name}\")\n",
    "print(f\"Last Name: {last_name}\")\n",
    "print(f\"Profession: {profession}\")\n",
    "print(f\"BirthYear: {birth_year}\") \n",
    "\n",
    "statement_one = (f\"{subject}: {full_name} is a {nationality} {profession} born in {birth_year}\")\n",
    "print(statement_one)\n",
    "\n",
    "statement_two = (f\"She is commonly referred to as the {known_for}\")\n",
    "print(statement_two)\n",
    "\n",
    "statement_three = (f\"In {year_of_publish} she published the first Algorithm, the {first_algorithm}, at the age of 27\")\n",
    "print(statement_three)\n",
    "\n",
    "statement_four = (f\"She was a {nationality} who lived in {city_location}, {country_location} until her passing in {death_year} at the age of {age_at_passing}\")\n",
    "print(statement_four)"
   ]
  },
  {
   "cell_type": "code",
   "execution_count": null,
   "id": "f6c1975d-c282-432d-940d-7a24f7672b23",
   "metadata": {},
   "outputs": [],
   "source": [
    "# Create a variable named cheer and give it a word to cheer (i.e. Python or FinTech)\n",
    "cheer = \"FINTECH\"\n",
    "\n",
    "# Below strings can be used to add fun\n",
    "cheer_symbol = \"*\\O/*\"\n",
    "cheer_symbol_2 = \"ヘ( ^o^)ノ＼(^_^ )\"\n",
    "\n",
    "# Loop through string and print each letter with a cheer\n",
    "for x in cheer:\n",
    "    print(\"Give me a \" + x + \"!\")\n",
    "    print(x + \"!\")\n",
    "\n",
    "# Print excitement to screen\n",
    "print(\"\\nWhat does that spell?!\")\n",
    "print(cheer + \"!\\nWoohoo! Go \" + cheer + \"!\")\n",
    "print(cheer_symbol * 3)\n",
    "print(cheer_symbol_2)"
   ]
  }
 ],
 "metadata": {
  "kernelspec": {
   "display_name": "Python 3 (ipykernel)",
   "language": "python",
   "name": "python3"
  },
  "language_info": {
   "codemirror_mode": {
    "name": "ipython",
    "version": 3
   },
   "file_extension": ".py",
   "mimetype": "text/x-python",
   "name": "python",
   "nbconvert_exporter": "python",
   "pygments_lexer": "ipython3",
   "version": "3.9.12"
  }
 },
 "nbformat": 4,
 "nbformat_minor": 5
}
