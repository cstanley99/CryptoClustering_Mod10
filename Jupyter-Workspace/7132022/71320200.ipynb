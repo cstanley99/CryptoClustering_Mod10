{
 "cells": [
  {
   "cell_type": "code",
   "execution_count": 1,
   "id": "63c6c48f-cdf0-4c33-be3b-ac9d4a801fe6",
   "metadata": {},
   "outputs": [],
   "source": [
    "\n",
    "# Import the necessary libraries for reading csv files\n",
    "import csv\n",
    "from pathlib import Path\n",
    "\n",
    "# Set the path for the csv file\n",
    "\n",
    "\n",
    "# Create new lists to store data for heaviest and tallest pokemon\n",
    "\n",
    "\n",
    "# Open the csv\n",
    "\n",
    "\n",
    "    # Iterate through the data and search for the number the user inputted. Remember to skip the header of the CSV.\n",
    "\n",
    "\n",
    "\n",
    "        # Print the name of the pokemon(identifier) and pokedex number(species id) at that number. For example, \"Pokemon No. 25 - pikachu\".\n",
    "\n",
    "\n",
    "        # Iterate through the data and search for pokemon whose weight is greater than 3000. Append only the pokemon's name and weight to the 'heaviest' list.\n",
    "\n",
    "\n",
    "        # Iterate through the data and search for pokemon whose height is greater than 50. Append only the pokemon's name and height to the 'tallest' list.\n",
    "\n",
    "\n",
    "# Print the list of heaviest and tallest pokemon"
   ]
  },
  {
   "cell_type": "code",
   "execution_count": null,
   "id": "807da6a6-27bc-432f-a38e-c3289add1990",
   "metadata": {},
   "outputs": [],
   "source": []
  }
 ],
 "metadata": {
  "kernelspec": {
   "display_name": "Python 3 (ipykernel)",
   "language": "python",
   "name": "python3"
  },
  "language_info": {
   "codemirror_mode": {
    "name": "ipython",
    "version": 3
   },
   "file_extension": ".py",
   "mimetype": "text/x-python",
   "name": "python",
   "nbconvert_exporter": "python",
   "pygments_lexer": "ipython3",
   "version": "3.7.13"
  }
 },
 "nbformat": 4,
 "nbformat_minor": 5
}
