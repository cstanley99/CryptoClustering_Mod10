{
 "cells": [
  {
   "cell_type": "code",
   "execution_count": 21,
   "id": "5b2e25c4-e4f2-4dfd-a141-b9de6b85046c",
   "metadata": {},
   "outputs": [
    {
     "name": "stdout",
     "output_type": "stream",
     "text": [
      "Hello Welcome to the sandwich shop, what do I call you?\n",
      "Are you here for a sandwich?\n",
      "What kind of sandwich would you like?\n"
     ]
    }
   ],
   "source": [
    "welcome_name = \"Welcome to the sandwich shop, what do I call you?\"\n",
    "print(f\"Hello {welcome_name}\")\n",
    "question_sandwich = \"Are you here for a sandwich?\"\n",
    "print(question_sandwich)\n",
    "question_sandwich = True\n",
    "food_prompt = \"What kind of sandwich would you like?\"\n",
    "if question_sandwich == True:  \n",
    "    print(food_prompt)\n",
    "if question_sandwich == False:\n",
    "    print(\"Then what are you here for?\")"
   ]
  },
  {
   "cell_type": "code",
   "execution_count": null,
   "id": "d56d3a37-e008-4872-9c6d-66e034d4fd2b",
   "metadata": {},
   "outputs": [],
   "source": []
  },
  {
   "cell_type": "code",
   "execution_count": 15,
   "id": "05ce889b-a160-4b58-b28a-30a68c49e295",
   "metadata": {},
   "outputs": [
    {
     "name": "stdout",
     "output_type": "stream",
     "text": [
      "Hello Welcome to the sandwich shop, what do I call you?\n",
      "Are you here for a sandwich?\n",
      "Then what are you here for?\n"
     ]
    }
   ],
   "source": [
    "welcome_name = \"Welcome to the sandwich shop, what do I call you?\"\n",
    "print(f\"Hello {welcome_name}\")\n",
    "question_sandwich = \"Are you here for a sandwich?\"\n",
    "print(question_sandwich)\n",
    "question_sandwich = False\n",
    "food_prompt = \"What kind of sandwich would you like?\"\n",
    "if question_sandwich == True:  \n",
    "    print(food_prompt)\n",
    "if question_sandwich == False:\n",
    "    print(\"Then what are you here for?\")"
   ]
  },
  {
   "cell_type": "code",
   "execution_count": null,
   "id": "55428fad-7547-4c31-b91c-87f6b52937c2",
   "metadata": {},
   "outputs": [],
   "source": [
    "A = int(input(\"enter 1st number\"))\n",
    "B = int(input(\"enter 2nd number\"))\n",
    "C = A + B\n",
    "print(C)\n",
    "greeting = (input(\"Welcome to the sandwich shop, what do I call you?\"))\n",
    "food_prompt = (input(\"Are you here for a sandwich?\"))\n",
    "question_sandwich = (input(\"What kind of sandwich do you want?\"))\n",
    "question_sandwich = True\n",
    "if question_sandwich == True:\n",
    "    print(f\"Please wait 10 minutes for your {question_sandwich}\")\n",
    "    "
   ]
  },
  {
   "cell_type": "raw",
   "id": "4f247bca-9267-4b96-afa7-2d74c3cdb693",
   "metadata": {},
   "source": [
    "greeting = (input(\"Welcome to the sandwich shop, what do I call you?\"))\n",
    "food_prompt = (input(\"Are you here for a sandwich?\"))\n",
    "\n",
    "question_sandwich = (input(\"What kind of sandwich do you want?\"))\n",
    "question_sandwich = True\n",
    "if question_sandwich == True:\n",
    "    print(f\"Please wait 10 minutes for your {question_sandwich}\")\n",
    "    "
   ]
  },
  {
   "cell_type": "code",
   "execution_count": 5,
   "id": "13de3a60-41d1-4b7e-8555-c6a5cab4c672",
   "metadata": {},
   "outputs": [
    {
     "name": "stdin",
     "output_type": "stream",
     "text": [
      "Welcome to the sandwich shop, what do I call you? h\n",
      "Are you here for a sandwich? h\n",
      "What kind of sandwich do you want? h\n"
     ]
    },
    {
     "name": "stdout",
     "output_type": "stream",
     "text": [
      "Please wait 10 minutes for your True\n"
     ]
    }
   ],
   "source": [
    "greeting = (input(\"Welcome to the sandwich shop, what do I call you?\"))\n",
    "food_prompt = (input(\"Are you here for a sandwich?\"))\n",
    "question_sandwich = (input(\"What kind of sandwich do you want?\"))\n",
    "question_sandwich = True\n",
    "if question_sandwich == True:\n",
    "    print(f\"Please wait 10 minutes for your {question_sandwich}\")\n",
    "    "
   ]
  },
  {
   "cell_type": "raw",
   "id": "63ce1f29-7a0c-45b4-8f3d-41a3315cc58d",
   "metadata": {},
   "source": []
  },
  {
   "cell_type": "raw",
   "id": "c15ad032-7a61-40b6-a295-80a9194a4d07",
   "metadata": {},
   "source": []
  },
  {
   "cell_type": "raw",
   "id": "59044cbc-22f1-441e-b6c7-d5803584945d",
   "metadata": {},
   "source": []
  },
  {
   "cell_type": "code",
   "execution_count": 20,
   "id": "abc704f6-0fe6-4ef2-bd58-46c49b66630b",
   "metadata": {},
   "outputs": [
    {
     "name": "stdin",
     "output_type": "stream",
     "text": [
      "Welcome to the sandwich shop, what is your name? char\n"
     ]
    },
    {
     "name": "stdout",
     "output_type": "stream",
     "text": [
      "Hello char\n"
     ]
    },
    {
     "name": "stdin",
     "output_type": "stream",
     "text": [
      "Are you here for a sandwich? no\n",
      "What kind of sandwich would you like? ass\n"
     ]
    },
    {
     "name": "stdout",
     "output_type": "stream",
     "text": [
      "then what are you here for?\n"
     ]
    }
   ],
   "source": [
    "welcome_name = (input(\"Welcome to the sandwich shop, what is your name?\"))\n",
    "print(f\"Hello {welcome_name}\")\n",
    "question_sandwich = (input(\"Are you here for a sandwich?\"))\n",
    "\n",
    "question_sandwich = False\n",
    "food_prompt = (input(\"What kind of sandwich would you like?\"))\n",
    "if question_sandwich == True:\n",
    "    \n",
    "    print(f\"Please wait 10 min for your {food_prompt}\")\n",
    "if question_sandwich == False:\n",
    "    print(\"then what are you here for?\")"
   ]
  },
  {
   "cell_type": "code",
   "execution_count": null,
   "id": "5dfeff69-4f03-4c01-83dc-1ec1fe81ea4d",
   "metadata": {},
   "outputs": [],
   "source": []
  }
 ],
 "metadata": {
  "kernelspec": {
   "display_name": "Python 3 (ipykernel)",
   "language": "python",
   "name": "python3"
  },
  "language_info": {
   "codemirror_mode": {
    "name": "ipython",
    "version": 3
   },
   "file_extension": ".py",
   "mimetype": "text/x-python",
   "name": "python",
   "nbconvert_exporter": "python",
   "pygments_lexer": "ipython3",
   "version": "3.9.12"
  }
 },
 "nbformat": 4,
 "nbformat_minor": 5
}
