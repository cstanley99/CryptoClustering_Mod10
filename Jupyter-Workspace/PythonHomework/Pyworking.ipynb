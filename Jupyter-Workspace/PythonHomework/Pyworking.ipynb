{
 "cells": [
  {
   "cell_type": "code",
   "execution_count": null,
   "id": "053dcee8-ced5-4988-81ad-36a51184b923",
   "metadata": {},
   "outputs": [],
   "source": [
    "import csv\n",
    "from pathlib import Path\n",
    "csvpath = Path('../PythonHomework/budget_data.csv')"
   ]
  },
  {
   "cell_type": "code",
   "execution_count": null,
   "id": "81b70c94-fa1e-42cd-b1f9-619756bae877",
   "metadata": {},
   "outputs": [],
   "source": [
    "with open(csvpath, 'r') as csvfile:\n",
    "    csvreader = csv.reader(csvfile, delimiter=\",\")\n",
    "    for row in csvreader:\n",
    "        print(row[:2])                         "
   ]
  },
  {
   "cell_type": "code",
   "execution_count": null,
   "id": "c99f0f17-7737-498d-8b02-d9f5bb18b40a",
   "metadata": {},
   "outputs": [],
   "source": [
    "#csv to dict\n",
    "with open('budget_data.csv', 'r') as pnl_file:\n",
    "    reader = csv.DictReader(pnl_file, skipinitialspace=True)\n",
    "    for key in reader:\n",
    "        print(key)"
   ]
  },
  {
   "cell_type": "code",
   "execution_count": null,
   "id": "03b4af5b-fb6b-43fb-8a3e-c551a0ed4f17",
   "metadata": {},
   "outputs": [],
   "source": [
    "with open('budget_data.csv', 'r') as pnl_file:\n",
    "    for key in pnl_file:\n",
    "        print(pnl_file[key])"
   ]
  },
  {
   "cell_type": "code",
   "execution_count": null,
   "id": "75a6830e-c6e8-4ffe-a49d-5c832f37e8e5",
   "metadata": {},
   "outputs": [],
   "source": [
    "with open('budget_data.csv', 'r') as pnl_file:\n",
    "    for key in pnl_file:\n",
    "        print(key)"
   ]
  },
  {
   "cell_type": "code",
   "execution_count": null,
   "id": "6d8ccf98-1a90-41e7-a6ba-0cdf2033ea3d",
   "metadata": {},
   "outputs": [],
   "source": [
    "with open('budget_data.csv', 'r') as pnl_file:\n",
    "    for key, value in pnl_file.items():\n",
    "        print(key,value)   "
   ]
  },
  {
   "cell_type": "code",
   "execution_count": null,
   "id": "94d74f67-e726-4d6c-a3db-6fc1a9a1512d",
   "metadata": {},
   "outputs": [],
   "source": [
    "#csv to dict easier\n",
    "import csv\n",
    "with open('budget_data.csv') as pnl:\n",
    "    for x in csv.DictReader(pnl):\n",
    "        print (dict(x))"
   ]
  },
  {
   "cell_type": "code",
   "execution_count": null,
   "id": "d1798bc4-b4cd-4ff6-bdb3-5ac4c5a585d1",
   "metadata": {},
   "outputs": [],
   "source": []
  }
 ],
 "metadata": {
  "kernelspec": {
   "display_name": "Python 3 (ipykernel)",
   "language": "python",
   "name": "python3"
  },
  "language_info": {
   "codemirror_mode": {
    "name": "ipython",
    "version": 3
   },
   "file_extension": ".py",
   "mimetype": "text/x-python",
   "name": "python",
   "nbconvert_exporter": "python",
   "pygments_lexer": "ipython3",
   "version": "3.9.12"
  }
 },
 "nbformat": 4,
 "nbformat_minor": 5
}
