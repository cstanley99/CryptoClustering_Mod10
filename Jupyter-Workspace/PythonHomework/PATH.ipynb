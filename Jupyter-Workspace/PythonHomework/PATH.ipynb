{
 "cells": [
  {
   "cell_type": "code",
   "execution_count": null,
   "id": "5fb36a16-2204-4003-93c9-77a3ff5bb871",
   "metadata": {},
   "outputs": [],
   "source": [
    "# -*- coding: utf-8 -*-\n",
    "\"\"\"Instructor Demo: File IO.\n",
    "This script will use the Pathlib library to set the file path\n",
    "and Python's built-in open() function to read in a text file. Then\n",
    "write the contents to an output file.\n",
    "\"\"\"\n",
    "\n",
    "# Import from the pathlib library, the main class Path\n",
    "from pathlib import Path\n",
    "\n",
    "# Check the current directory where the Python program is executing from\n",
    "print(f\"Current Working Directory: {Path.cwd()}\")\n",
    "\n",
    "# Set the path normally (Windows)\n",
    "# Set string raw literal due to backslashes acting as escape characters for\n",
    "# the Windows file = r'..\\Resources\\input.txt'\n",
    "\n",
    "# Set the path normally (Unix)\n",
    "#file = '../Resources/input.txt'\n",
    "\n",
    "# Set the input file path irregardless of OS\n",
    "filepath = Path(\"../Resources/input.txt\")\n",
    "\n",
    "# Open the file in \"read\" mode ('r') and store the\n",
    "# contents in the variable \"text\"\n",
    "with open(filepath, 'r') as file:\n",
    "    # Store all of the text from the file inside a variable called \"text\"\n",
    "    # and print the contexts of the text file\n",
    "    text = file.read()\n",
    "    print(text)\n",
    "\n",
    "    # Parse and print the file line by line. The print statement adds an\n",
    "    # extra line break to each line in the output.\n",
    "    line_num = 1\n",
    "    for line in file:\n",
    "        print(f\"line {line_num}: {line}\")\n",
    "        line_num += 1\n",
    "\n",
    "# Set the output file path\n",
    "output_path = Path(\"output.txt\")\n",
    "\n",
    "# Open the output_path as a file object in \"write\" mode ('w')\n",
    "# Write a header line and write the contents of 'text' to the file\n",
    "with open(output_path, 'w') as file:\n",
    "    file.write(\"This is an output file.\\n\")\n",
    "    file.write(text)"
   ]
  }
 ],
 "metadata": {
  "kernelspec": {
   "display_name": "Python 3 (ipykernel)",
   "language": "python",
   "name": "python3"
  },
  "language_info": {
   "codemirror_mode": {
    "name": "ipython",
    "version": 3
   },
   "file_extension": ".py",
   "mimetype": "text/x-python",
   "name": "python",
   "nbconvert_exporter": "python",
   "pygments_lexer": "ipython3",
   "version": "3.9.12"
  },
  "vscode": {
   "interpreter": {
    "hash": "cbf006489227f9e79509760c4e33750500423dcdbe407e75e056528099a5dda2"
   }
  }
 },
 "nbformat": 4,
 "nbformat_minor": 5
}
