{
 "cells": [
  {
   "cell_type": "code",
   "execution_count": null,
   "id": "92a068cd-6a46-46a2-8b84-bd30dbe78e71",
   "metadata": {},
   "outputs": [],
   "source": [
    "import csv\n",
    "from pathlib import Path\n"
   ]
  },
  {
   "cell_type": "code",
   "execution_count": null,
   "id": "dec4b647-02a8-4734-aa78-f34a708db813",
   "metadata": {},
   "outputs": [],
   "source": [
    "csvpath = Path('../PythonHomework/budget_data.csv')"
   ]
  },
  {
   "cell_type": "code",
   "execution_count": null,
   "id": "1117cd5a-958c-44f2-8268-8e3f6ce40825",
   "metadata": {},
   "outputs": [],
   "source": [
    "total_months = []\n",
    "total_PnL = []\n",
    "average_change_PnL = []\n",
    "greatest_increase_profits = []\n",
    "greatest_increase_losses = []\n",
    "print(type(csvfile))\n",
    "print(type(csvreader))\n"
   ]
  },
  {
   "cell_type": "code",
   "execution_count": null,
   "id": "6dba60c5-e7ca-4876-968e-f9f55df2e0ed",
   "metadata": {},
   "outputs": [],
   "source": [
    "#this turns csv file into dictionary\n",
    "with open('budget_data.csv', 'r') as pnl_file:\n",
    "    reader = csv.DictReader(pnl_file, skipinitialspace=True)\n",
    "    for x in reader:\n",
    "        print(x)"
   ]
  },
  {
   "cell_type": "code",
   "execution_count": null,
   "id": "c283f924-0809-483f-be2e-b5dedb964c9e",
   "metadata": {},
   "outputs": [],
   "source": [
    "#csv to dict easier\n",
    "import csv\n",
    "with open('budget_data.csv') as pnl:\n",
    "    for x in csv.DictReader(pnl):\n",
    "        print (dict(x))"
   ]
  },
  {
   "cell_type": "code",
   "execution_count": null,
   "id": "99a19167-6c0b-46cd-ac2e-73a1c2595324",
   "metadata": {},
   "outputs": [],
   "source": [
    "#this prints csv file\n",
    "with open(csvpath, 'r') as csvfile:\n",
    "    csvreader = csv.reader(csvfile, delimiter=\",\")\n",
    "    for row in csvreader:\n",
    "        print(row)"
   ]
  },
  {
   "cell_type": "code",
   "execution_count": null,
   "id": "17a940e2-8de1-452d-a1f3-94c6cb949591",
   "metadata": {},
   "outputs": [],
   "source": [
    "#this prints Total Amount of P/L over entire period\n",
    "\n",
    "with open(csvpath,\"r\") as csvfile:\n",
    "    headerline = next(csvfile)\n",
    "    total = 0\n",
    "    for row in csv.reader(csvfile):\n",
    "        total += int(row[1])\n",
    "    print (total)"
   ]
  },
  {
   "cell_type": "code",
   "execution_count": null,
   "id": "eea9d1c1-549b-46e0-a747-69c72e1e18fb",
   "metadata": {},
   "outputs": [],
   "source": [
    "#this prints Total Months in dataset\n",
    "\n",
    "with open(csvpath,\"r\") as csvfile:\n",
    "    csvreader = csv.reader(csvfile,delimiter = \",\")\n",
    "    next(csvreader, None)\n",
    "    data = list(csvreader)\n",
    "    total_months = len(data)\n",
    "    print(total_months)"
   ]
  },
  {
   "cell_type": "code",
   "execution_count": null,
   "id": "753562d0-ee3a-4f14-b071-59dceb76d6f1",
   "metadata": {},
   "outputs": [],
   "source": []
  }
 ],
 "metadata": {
  "kernelspec": {
   "display_name": "Python 3 (ipykernel)",
   "language": "python",
   "name": "python3"
  },
  "language_info": {
   "codemirror_mode": {
    "name": "ipython",
    "version": 3
   },
   "file_extension": ".py",
   "mimetype": "text/x-python",
   "name": "python",
   "nbconvert_exporter": "python",
   "pygments_lexer": "ipython3",
   "version": "3.9.12"
  }
 },
 "nbformat": 4,
 "nbformat_minor": 5
}
