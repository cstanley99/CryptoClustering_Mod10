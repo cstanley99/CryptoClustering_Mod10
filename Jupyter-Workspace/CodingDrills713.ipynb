{
 "cells": [
  {
   "cell_type": "code",
   "execution_count": null,
   "id": "b92a4306-8303-4ca1-9017-6560e75f14e0",
   "metadata": {},
   "outputs": [],
   "source": [
    "our_list = []\n",
    "our_list.append(1)"
   ]
  },
  {
   "cell_type": "code",
   "execution_count": null,
   "id": "1c42924b-5745-4558-94ea-018d581df8fa",
   "metadata": {},
   "outputs": [],
   "source": [
    "our_list.append(\"world\")"
   ]
  },
  {
   "cell_type": "code",
   "execution_count": null,
   "id": "5f91e747-5336-43d5-a7a7-a26435d2ac37",
   "metadata": {},
   "outputs": [],
   "source": [
    "print(f\"Print 'our list': {our_list}\")"
   ]
  },
  {
   "cell_type": "code",
   "execution_count": null,
   "id": "0b53de1d-394c-4056-97c5-17b61ae7c44f",
   "metadata": {},
   "outputs": [],
   "source": [
    "one_to_ten = [1,2,3,4,5,6,7,8,9,10]"
   ]
  },
  {
   "cell_type": "code",
   "execution_count": null,
   "id": "67b988a3-bd5d-4c4d-ae73-c6c08e5efaa8",
   "metadata": {},
   "outputs": [],
   "source": [
    "print(f\"print the 7th element: {one_to_ten[6]}\")\n"
   ]
  },
  {
   "cell_type": "code",
   "execution_count": 39,
   "id": "c42dcc2b-9858-47e2-9ff0-39dadfffc7e9",
   "metadata": {},
   "outputs": [],
   "source": [
    "num_list = [2, 65, 3, 7, 39, 22, 11, 94, 299, 9, 20, 21, 51, 37]"
   ]
  },
  {
   "cell_type": "code",
   "execution_count": null,
   "id": "ac4fd40b-491a-4ffe-8473-f3c5d31bfb8f",
   "metadata": {},
   "outputs": [],
   "source": [
    "for x in num_list:\n",
    "    if x > 50:\n",
    "        print(x)"
   ]
  },
  {
   "cell_type": "code",
   "execution_count": null,
   "id": "52e93815-d401-48cb-8cd3-23a0cde94d58",
   "metadata": {},
   "outputs": [],
   "source": [
    "index = 0\n",
    "for x in num_list:\n",
    "    if x == 11:\n",
    "        print(index)\n",
    "    index+=1\n",
    "    "
   ]
  },
  {
   "cell_type": "code",
   "execution_count": 42,
   "id": "7f2e95d2-e5c1-45e8-8c1f-47d235444d20",
   "metadata": {},
   "outputs": [],
   "source": [
    "sum = 0\n",
    "for x in num_list:\n",
    "    sum+=x"
   ]
  },
  {
   "cell_type": "code",
   "execution_count": 43,
   "id": "56ceb048-374d-4b34-9c8c-0d5fffe35af6",
   "metadata": {},
   "outputs": [
    {
     "name": "stdout",
     "output_type": "stream",
     "text": [
      "680\n"
     ]
    }
   ],
   "source": [
    "print(sum)"
   ]
  },
  {
   "cell_type": "code",
   "execution_count": 47,
   "id": "3e6bfe49-06f8-4416-a44c-76ca75f04f1c",
   "metadata": {},
   "outputs": [
    {
     "name": "stdout",
     "output_type": "stream",
     "text": [
      "509\n"
     ]
    }
   ],
   "source": [
    "sum=0\n",
    "for x in num_list:\n",
    "    if x>50:\n",
    "        sum+=x\n",
    "print(sum)\n",
    "    "
   ]
  },
  {
   "cell_type": "code",
   "execution_count": 52,
   "id": "378e0d39-ee54-46af-b7db-e09f8bd5fde3",
   "metadata": {},
   "outputs": [
    {
     "name": "stdout",
     "output_type": "stream",
     "text": [
      "138\n"
     ]
    }
   ],
   "source": [
    "sum=0\n",
    "for x in num_list:\n",
    "    if x%2 == 0:\n",
    "        sum+=x\n",
    "print(sum)"
   ]
  },
  {
   "cell_type": "code",
   "execution_count": null,
   "id": "56853a1c-c6c3-4278-943c-9137800c844e",
   "metadata": {},
   "outputs": [],
   "source": []
  }
 ],
 "metadata": {
  "kernelspec": {
   "display_name": "Python 3 (ipykernel)",
   "language": "python",
   "name": "python3"
  },
  "language_info": {
   "codemirror_mode": {
    "name": "ipython",
    "version": 3
   },
   "file_extension": ".py",
   "mimetype": "text/x-python",
   "name": "python",
   "nbconvert_exporter": "python",
   "pygments_lexer": "ipython3",
   "version": "3.9.12"
  }
 },
 "nbformat": 4,
 "nbformat_minor": 5
}
