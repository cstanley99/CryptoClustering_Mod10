{
 "cells": [
  {
   "cell_type": "code",
   "execution_count": 10,
   "id": "7dc670b6-fb79-4311-b58c-0a5790448330",
   "metadata": {},
   "outputs": [
    {
     "name": "stdout",
     "output_type": "stream",
     "text": [
      "Hello Mr. Farley\n",
      "snuggles older than farley\n",
      "farley non sports town\n",
      "look a web developer and an accountant\n"
     ]
    }
   ],
   "source": [
    "c1_name = \"Mr. Farley\"\n",
    "c1_age = 65\n",
    "c1_salary = 100000\n",
    "c1_species = \"cat\"\n",
    "c1_location =\"San Francisco, CA\"\n",
    "c1_monthly_rent = 2000\n",
    "c1_monthly_expenses = 1500\n",
    "c1_yearly_rent = c1_monthly_rent * 12\n",
    "c1_yearly_expenses = 1500.00 * 12\n",
    "c1_savings = c1_salary - (c1_yearly_rent + c1_yearly_expenses)\n",
    "c1_profession = \"web developer\"                         \n",
    "c2_name = \"Mr. Snuggles\"\n",
    "c2_age = 30\n",
    "c2_species = \"mouse\"\n",
    "c2_profession = \"Accountant\"\n",
    "c2_salary = 70000\n",
    "c2_location = \"Oakland, CA\"\n",
    "c2_monthly_rent = 4000\n",
    "c2_monthly_expenses = 500\n",
    "c2_yearly_rent = c2_monthly_rent * 12\n",
    "c2_yearly_expenses = c2_monthly_expenses * 12\n",
    "c2_savings = c2_salary - (c2_yearly_rent + c2_yearly_expenses)\n",
    "\n",
    "if c1_name == \"Mr. Farley\":\n",
    "    print(f\"Hello {c1_name}\")\n",
    "else:\n",
    "    print(\"Hello stranger\")\n",
    "    \n",
    "if c2_age > c1_age:\n",
    "    print(\"Mr farley is older than Snuggles\")\n",
    "elif c1_age > c2_age:\n",
    "    print(\"snuggles older than farley\")\n",
    "else:\n",
    "    print(\"same age\")\n",
    "    \n",
    "if c1_location == c2_location:\n",
    "    print(\"Mr Farley comes from Raiders\")\n",
    "elif c2_location == c1_location:\n",
    "    print(\"farley home of 49ers\")\n",
    "else:\n",
    "    print(\"farley non sports town\")\n",
    "\n",
    "if c1_profession == \"web developer\" and c2_profession == \"Accountant\":\n",
    "    print(\"look a web developer and an accountant\")\n",
    "else:\n",
    "    print(\"professionals\")\n",
    "    \n",
    "\n",
    "\n",
    "       "
   ]
  },
  {
   "cell_type": "code",
   "execution_count": null,
   "id": "f984d6f8-ed40-4458-81b7-7ad6e1a426fd",
   "metadata": {},
   "outputs": [],
   "source": []
  }
 ],
 "metadata": {
  "kernelspec": {
   "display_name": "Python 3 (ipykernel)",
   "language": "python",
   "name": "python3"
  },
  "language_info": {
   "codemirror_mode": {
    "name": "ipython",
    "version": 3
   },
   "file_extension": ".py",
   "mimetype": "text/x-python",
   "name": "python",
   "nbconvert_exporter": "python",
   "pygments_lexer": "ipython3",
   "version": "3.9.12"
  }
 },
 "nbformat": 4,
 "nbformat_minor": 5
}
