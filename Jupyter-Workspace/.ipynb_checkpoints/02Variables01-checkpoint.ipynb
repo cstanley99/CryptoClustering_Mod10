{
 "cells": [
  {
   "cell_type": "code",
   "execution_count": 12,
   "id": "7769ad3e-5b38-4230-8da3-0289d795f538",
   "metadata": {},
   "outputs": [
    {
     "name": "stdout",
     "output_type": "stream",
     "text": [
      "First Name: Ada\n",
      "Last Name: Lovelace\n",
      "Profession: computer programmer\n",
      "BirthYear: 1815\n",
      "statement one('Programmers', 'Ada', 'Lovelace', 'British', 'computer programmer', 1815)\n"
     ]
    }
   ],
   "source": [
    "# Create a variable named `subject` with no value (None).\n",
    "subject = None\n",
    "# Assign a value of \"Programmers to the variable `subject`.\n",
    "subject = \"Programmers\"\n",
    "# Create a variable, `first_name`, and assign it a value of an empty string.\n",
    "first_name =\"\"\n",
    "# Assign a value of \"Ada\" to the variable `first_name`.\n",
    "first_name = \"Ada\"\n",
    "# Create a variable, `last_name`, and assign it a value of a string, \"Lovelace\".\n",
    "last_name = \"Lovelace\"\n",
    "# Create a variable, `full_name`, and assign it a value of the combination of `first_name` and `last_name` with a space.\n",
    "full_name = first_name , last_name\n",
    "# Create a variable, `profession`, and assign it a value of a string, \"Computer Programmer\".\n",
    "profession = \"computer programmer\"\n",
    "# Create a variable, `known_for`, and assign it a value of a string, \"First Computer Programmer\".\n",
    "known_for = \"first computer programmer\"\n",
    "# Create a variable, `first_algorithm`, and assign it a value of a string, \"Analytical Engine\".\n",
    "first_algorithm = \"analytical engine\"\n",
    "# Create a variable, `city_location`, and assign it a value of a string, \"London\".\n",
    "city_location = \"London\"\n",
    "# Create a variable, `country_location`, and assign it a value of a string, \"England\".\n",
    "country_location = \"England\"\n",
    "# Create a variable, `nationality`, and assign it a value of a string, \"British\".\n",
    "nationality = \"British\"\n",
    "# Topic: Integers\n",
    "# Create a variable, `birth_year`, and assign it with an integer of 1815.\n",
    "birth_year = 1815\n",
    "death_year = 1852\n",
    "age_at_passing = death_year - birth_year\n",
    "year_of_publish = 1842\n",
    "\n",
    "# Create a variable, `death_year`, and assign it with an integer of 1852.\n",
    "# Create a variable, `age_at_passing`, and assign it a value of death_year minus birth_year.\n",
    "# Create a variable, `year_of_publish`, and assign it with an integer of 1842.\n",
    "#Topic: Print\n",
    "# Print: \"First Name: \" and `first_name`.\n",
    "print(f\"First Name: {first_name}\")\n",
    "print(f\"Last Name: {last_name}\")\n",
    "print(f\"Profession: {profession}\")\n",
    "print(f\"BirthYear: {birth_year}\") \n",
    "\n",
    "statement_one = subject , first_name , last_name , nationality , profession , birth_year\n",
    "print(f\"statement one{statement_one}\")\n",
    "\n"
   ]
  },
  {
   "cell_type": "code",
   "execution_count": null,
   "id": "f6c1975d-c282-432d-940d-7a24f7672b23",
   "metadata": {},
   "outputs": [],
   "source": []
  }
 ],
 "metadata": {
  "kernelspec": {
   "display_name": "Python 3 (ipykernel)",
   "language": "python",
   "name": "python3"
  },
  "language_info": {
   "codemirror_mode": {
    "name": "ipython",
    "version": 3
   },
   "file_extension": ".py",
   "mimetype": "text/x-python",
   "name": "python",
   "nbconvert_exporter": "python",
   "pygments_lexer": "ipython3",
   "version": "3.9.12"
  }
 },
 "nbformat": 4,
 "nbformat_minor": 5
}
