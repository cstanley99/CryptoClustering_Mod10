{
 "cells": [
  {
   "cell_type": "code",
   "execution_count": 2,
   "id": "55428fad-7547-4c31-b91c-87f6b52937c2",
   "metadata": {},
   "outputs": [
    {
     "name": "stdin",
     "output_type": "stream",
     "text": [
      "enter 1st number 7\n",
      "enter 2nd number 8\n"
     ]
    },
    {
     "name": "stdout",
     "output_type": "stream",
     "text": [
      "15\n"
     ]
    }
   ],
   "source": [
    "A = int(input(\"enter 1st number\"))\n",
    "B = int(input(\"enter 2nd number\"))\n",
    "C = A + B\n",
    "print(C)"
   ]
  },
  {
   "cell_type": "code",
   "execution_count": 15,
   "id": "5b2e25c4-e4f2-4dfd-a141-b9de6b85046c",
   "metadata": {},
   "outputs": [
    {
     "name": "stdout",
     "output_type": "stream",
     "text": [
      "Hello Welcome to the sandwich shop, what do I call you?\n",
      "Are you here for a sandwich?\n",
      "What kind of sandwich would you like?\n"
     ]
    }
   ],
   "source": [
    "welcome_name = \"Welcome to the sandwich shop, what do I call you?\"\n",
    "print(f\"Hello {welcome_name}\")\n",
    "question_sandwich = \"Are you here for a sandwich?\"\n",
    "print(question_sandwich)\n",
    "question_sandwich = True\n",
    "food_prompt = \"What kind of sandwich would you like?\"\n",
    "if question_sandwich == True:  \n",
    "    print(food_prompt)\n",
    "if question_sandwich == False:\n",
    "    print(\"Then what are you here for?\")\n",
    "\n",
    "\n",
    "\n",
    "\n"
   ]
  },
  {
   "cell_type": "code",
   "execution_count": null,
   "id": "d56d3a37-e008-4872-9c6d-66e034d4fd2b",
   "metadata": {},
   "outputs": [],
   "source": []
  }
 ],
 "metadata": {
  "kernelspec": {
   "display_name": "Python 3 (ipykernel)",
   "language": "python",
   "name": "python3"
  },
  "language_info": {
   "codemirror_mode": {
    "name": "ipython",
    "version": 3
   },
   "file_extension": ".py",
   "mimetype": "text/x-python",
   "name": "python",
   "nbconvert_exporter": "python",
   "pygments_lexer": "ipython3",
   "version": "3.9.12"
  }
 },
 "nbformat": 4,
 "nbformat_minor": 5
}
