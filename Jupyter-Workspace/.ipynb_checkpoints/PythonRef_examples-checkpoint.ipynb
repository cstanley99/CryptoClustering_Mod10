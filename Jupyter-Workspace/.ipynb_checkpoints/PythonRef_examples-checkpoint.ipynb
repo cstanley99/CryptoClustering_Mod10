{
 "cells": [
  {
   "cell_type": "code",
   "execution_count": 6,
   "id": "11001f14-caba-44ae-ba61-db1477b8cd1c",
   "metadata": {},
   "outputs": [
    {
     "name": "stdout",
     "output_type": "stream",
     "text": [
      "less than 20\n"
     ]
    }
   ],
   "source": [
    "#this is a conditional\n",
    "n = 15\n",
    "if n > 25:\n",
    "    print(\"greater than 25\")\n",
    "elif n >= 20:\n",
    "    print(\"20 or greater\")\n",
    "else:\n",
    "    print(\"less than 20\")"
   ]
  },
  {
   "cell_type": "code",
   "execution_count": 7,
   "id": "9c5772a9-8fbc-4c19-8218-e9739427007c",
   "metadata": {},
   "outputs": [
    {
     "name": "stdout",
     "output_type": "stream",
     "text": [
      "0\n",
      "1\n",
      "2\n",
      "3\n",
      "4\n"
     ]
    }
   ],
   "source": [
    "#this is a for loop also called Ranges\n",
    "for n in range(5):\n",
    "    print(n)"
   ]
  },
  {
   "cell_type": "code",
   "execution_count": 16,
   "id": "fc261027-26d9-4f90-bb93-1a5cf4c732e1",
   "metadata": {},
   "outputs": [
    {
     "name": "stdout",
     "output_type": "stream",
     "text": [
      "['dog', 'cat', 'rabbit']\n",
      "rabbit\n",
      "cat\n",
      "dog\n"
     ]
    }
   ],
   "source": [
    "#this is a list\n",
    "animals = [\"dog\", \"cat\", \"rabbit\"]\n",
    "print (animals)\n",
    "#list indexing\n",
    "print (animals[2])\n",
    "print (animals[1])\n",
    "print (animals[0])"
   ]
  },
  {
   "cell_type": "code",
   "execution_count": 20,
   "id": "18920126-8f57-438d-b24d-80e1eb38048b",
   "metadata": {},
   "outputs": [
    {
     "name": "stdout",
     "output_type": "stream",
     "text": [
      "['dog', 'cat', 'rabbit', 'hampster', 'hampster', 'hampster', 'hampster']\n",
      "hampster\n"
     ]
    }
   ],
   "source": [
    "#adding to a list (append)\n",
    "animals.append(\"hampster\")\n",
    "print(animals)\n",
    "print(animals[3])"
   ]
  },
  {
   "cell_type": "code",
   "execution_count": 25,
   "id": "d55831ef-f3f2-401f-acf2-bc3516d54b88",
   "metadata": {},
   "outputs": [
    {
     "name": "stdout",
     "output_type": "stream",
     "text": [
      "{'dove': 3, 'chick': 5, 'hawk': 1}\n",
      "1\n"
     ]
    }
   ],
   "source": [
    "#creating a dictionary, key and value pair seperated by a comma\n",
    "birds_sighted = {'dove': 3, 'chick': 5, 'hawk': 1}\n",
    "print(birds_sighted)\n",
    "#printing a single value using dictionary key\n",
    "print(birds_sighted['hawk'])"
   ]
  },
  {
   "cell_type": "code",
   "execution_count": 27,
   "id": "b8c61858-c555-46a8-9d8d-dc0ad2ddfe81",
   "metadata": {},
   "outputs": [
    {
     "name": "stdout",
     "output_type": "stream",
     "text": [
      "Hello!\n"
     ]
    }
   ],
   "source": [
    "#function def before function name then ():\n",
    "def say_hello():\n",
    "    print(\"Hello!\")\n",
    "#call the function-type function than ()\n",
    "say_hello()"
   ]
  },
  {
   "cell_type": "code",
   "execution_count": 29,
   "id": "e925b1e2-41f6-4066-8404-88de1c04481d",
   "metadata": {},
   "outputs": [
    {
     "name": "stdout",
     "output_type": "stream",
     "text": [
      "Hello, Bob!\n"
     ]
    }
   ],
   "source": [
    "#function acting on data input (called an argument)\n",
    "name = \"Bob\"\n",
    "def say_hello(name):\n",
    "    print(f\"Hello, {name}!\")\n",
    "say_hello(name)"
   ]
  },
  {
   "cell_type": "code",
   "execution_count": null,
   "id": "aa2ffd77-5281-40a9-9ec7-e7d77c3993f8",
   "metadata": {},
   "outputs": [],
   "source": []
  }
 ],
 "metadata": {
  "kernelspec": {
   "display_name": "Python 3 (ipykernel)",
   "language": "python",
   "name": "python3"
  },
  "language_info": {
   "codemirror_mode": {
    "name": "ipython",
    "version": 3
   },
   "file_extension": ".py",
   "mimetype": "text/x-python",
   "name": "python",
   "nbconvert_exporter": "python",
   "pygments_lexer": "ipython3",
   "version": "3.9.12"
  }
 },
 "nbformat": 4,
 "nbformat_minor": 5
}
