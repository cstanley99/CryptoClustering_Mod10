{
 "cells": [
  {
   "cell_type": "code",
   "execution_count": 15,
   "id": "559bd946-46f1-4aca-ad4e-aa2fb8f7b75c",
   "metadata": {},
   "outputs": [],
   "source": [
    "daughter = \"Elle\"\n",
    "daughter_next = \"Genevieve\"\n",
    "daughter_next_age = \"13\"\n",
    "daughter_age = \"15\""
   ]
  },
  {
   "cell_type": "code",
   "execution_count": 18,
   "id": "cf44e50a-5383-40b3-9e72-7880c255ce27",
   "metadata": {},
   "outputs": [
    {
     "name": "stdout",
     "output_type": "stream",
     "text": [
      "Elle\n",
      "15\n",
      "Genevieve\n",
      "13\n",
      "My daughter's names are Elle Genevieve\n"
     ]
    }
   ],
   "source": [
    "print(daughter)\n",
    "print(daughter_age)\n",
    "print(daughter_next)\n",
    "print(daughter_next_age)\n",
    "print(f\"My daughter's names are {daughter} {daughter_next}\")\n"
   ]
  },
  {
   "cell_type": "code",
   "execution_count": null,
   "id": "084f2874-7fc8-472c-b503-f0ea414f84e7",
   "metadata": {},
   "outputs": [],
   "source": []
  }
 ],
 "metadata": {
  "kernelspec": {
   "display_name": "Python 3 (ipykernel)",
   "language": "python",
   "name": "python3"
  },
  "language_info": {
   "codemirror_mode": {
    "name": "ipython",
    "version": 3
   },
   "file_extension": ".py",
   "mimetype": "text/x-python",
   "name": "python",
   "nbconvert_exporter": "python",
   "pygments_lexer": "ipython3",
   "version": "3.9.12"
  }
 },
 "nbformat": 4,
 "nbformat_minor": 5
}
