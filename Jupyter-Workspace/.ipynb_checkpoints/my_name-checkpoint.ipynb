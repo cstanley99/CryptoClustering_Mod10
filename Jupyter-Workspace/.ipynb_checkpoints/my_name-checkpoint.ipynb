{
 "cells": [
  {
   "cell_type": "code",
   "execution_count": 1,
   "id": "6508b377-b6bd-493e-accc-dffbfccfa4e1",
   "metadata": {},
   "outputs": [
    {
     "name": "stdout",
     "output_type": "stream",
     "text": [
      "Charlie\n",
      "51\n",
      "YIKES!!!\n"
     ]
    }
   ],
   "source": [
    "name = \"Charlie\"\n",
    "name_age = 51\n",
    "print(name)\n",
    "print(name_age)\n",
    "print(\"YIKES!!!\")"
   ]
  },
  {
   "cell_type": "code",
   "execution_count": null,
   "id": "6aab0df9-024d-4419-8474-60c6bbc575a0",
   "metadata": {},
   "outputs": [],
   "source": []
  }
 ],
 "metadata": {
  "kernelspec": {
   "display_name": "Python 3 (ipykernel)",
   "language": "python",
   "name": "python3"
  },
  "language_info": {
   "codemirror_mode": {
    "name": "ipython",
    "version": 3
   },
   "file_extension": ".py",
   "mimetype": "text/x-python",
   "name": "python",
   "nbconvert_exporter": "python",
   "pygments_lexer": "ipython3",
   "version": "3.9.12"
  }
 },
 "nbformat": 4,
 "nbformat_minor": 5
}
