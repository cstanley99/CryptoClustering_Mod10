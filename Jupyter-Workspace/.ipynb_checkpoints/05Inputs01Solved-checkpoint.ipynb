{
 "cells": [
  {
   "cell_type": "code",
   "execution_count": 4,
   "id": "920a82f2-6d38-42fa-8de7-2aa9e93edae5",
   "metadata": {},
   "outputs": [
    {
     "name": "stdin",
     "output_type": "stream",
     "text": [
      "Welcome to the sandwich shop, what is your name? charlie\n"
     ]
    },
    {
     "name": "stdout",
     "output_type": "stream",
     "text": [
      "Hello charlie\n"
     ]
    },
    {
     "name": "stdin",
     "output_type": "stream",
     "text": [
      "Are you here for a sandwich? Yes or No? No\n"
     ]
    },
    {
     "name": "stdout",
     "output_type": "stream",
     "text": [
      "then what are you here for?\n"
     ]
    }
   ],
   "source": [
    "welcome_name = input(\"Welcome to the sandwich shop, what is your name?\")\n",
    "print(f\"Hello {welcome_name}\")\n",
    "question_sandwich = input(\"Are you here for a sandwich? Yes or No?\")\n",
    "if question_sandwich == \"Yes\":\n",
    "    food_prompt = input(\"What kind of sandwich would you like?\")   \n",
    "    print(f\"Please wait 10 min for your {food_prompt}\")\n",
    "elif question_sandwich == \"No\":\n",
    "    print(\"Then what are you here for?\")\n",
    "else:\n",
    "    print(\"You didn't answer Yes or No!\")"
   ]
  },
  {
   "cell_type": "code",
   "execution_count": null,
   "id": "a6f729ce-a25e-4fd8-b7cc-ed3d50f73253",
   "metadata": {},
   "outputs": [],
   "source": []
  }
 ],
 "metadata": {
  "kernelspec": {
   "display_name": "Python 3 (ipykernel)",
   "language": "python",
   "name": "python3"
  },
  "language_info": {
   "codemirror_mode": {
    "name": "ipython",
    "version": 3
   },
   "file_extension": ".py",
   "mimetype": "text/x-python",
   "name": "python",
   "nbconvert_exporter": "python",
   "pygments_lexer": "ipython3",
   "version": "3.9.12"
  }
 },
 "nbformat": 4,
 "nbformat_minor": 5
}
