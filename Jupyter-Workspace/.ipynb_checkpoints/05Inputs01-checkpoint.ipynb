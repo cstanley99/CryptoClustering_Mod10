{
 "cells": [
  {
   "cell_type": "code",
   "execution_count": null,
   "id": "5fd839b2-cb5b-4f11-8127-f198181490fe",
   "metadata": {},
   "outputs": [],
   "source": []
  },
  {
   "cell_type": "code",
   "execution_count": 20,
   "id": "3bdb9214-daa5-4d9e-b2b7-875e042e593c",
   "metadata": {},
   "outputs": [
    {
     "name": "stdin",
     "output_type": "stream",
     "text": [
      "Welcome to the sandwich shop, what is your name? char\n"
     ]
    },
    {
     "name": "stdout",
     "output_type": "stream",
     "text": [
      "Hello char\n"
     ]
    },
    {
     "name": "stdin",
     "output_type": "stream",
     "text": [
      "Are you here for a sandwich? no\n",
      "What kind of sandwich would you like? ass\n"
     ]
    },
    {
     "name": "stdout",
     "output_type": "stream",
     "text": [
      "then what are you here for?\n"
     ]
    }
   ],
   "source": [
    "welcome_name = (input(\"Welcome to the sandwich shop, what is your name?\"))\n",
    "print(f\"Hello {welcome_name}\")\n",
    "question_sandwich = (input(\"Are you here for a sandwich?\"))\n",
    "\n",
    "question_sandwich = False\n",
    "food_prompt = (input(\"What kind of sandwich would you like?\"))\n",
    "if question_sandwich == True:\n",
    "    \n",
    "    print(f\"Please wait 10 min for your {food_prompt}\")\n",
    "if question_sandwich == False:\n",
    "    print(\"then what are you here for?\")"
   ]
  }
 ],
 "metadata": {
  "kernelspec": {
   "display_name": "Python 3 (ipykernel)",
   "language": "python",
   "name": "python3"
  },
  "language_info": {
   "codemirror_mode": {
    "name": "ipython",
    "version": 3
   },
   "file_extension": ".py",
   "mimetype": "text/x-python",
   "name": "python",
   "nbconvert_exporter": "python",
   "pygments_lexer": "ipython3",
   "version": "3.9.12"
  }
 },
 "nbformat": 4,
 "nbformat_minor": 5
}
