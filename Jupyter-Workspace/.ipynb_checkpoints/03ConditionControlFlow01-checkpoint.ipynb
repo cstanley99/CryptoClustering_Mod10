{
 "cells": [
  {
   "cell_type": "code",
   "execution_count": 14,
   "id": "96eee5df-fc3d-4371-bd5c-9f5493d39ffe",
   "metadata": {},
   "outputs": [
    {
     "name": "stdout",
     "output_type": "stream",
     "text": [
      "MOOOO\n",
      "RWAR!\n"
     ]
    }
   ],
   "source": [
    "farm = [\"pig\", \"cow\", \"chicken\", \"dog\", \"horse\", \"sheep\"]\n",
    "if farm[1] == \"cow\":\n",
    "    print(\"MOOOO\")     \n",
    "if farm[0] != \"Godzilla\":\n",
    "    print(\"RWAR!\")\n",
    "elif farm[5] == \"Mothra\":\n",
    "    print(\"SCREEH!\")\n",
    "else:\n",
    "    print(\"this animal is neither Godzilla or Mothra!\")"
   ]
  },
  {
   "cell_type": "code",
   "execution_count": 18,
   "id": "c1259a04-9539-41cc-aedb-916f300c7e9f",
   "metadata": {},
   "outputs": [
    {
     "name": "stdout",
     "output_type": "stream",
     "text": [
      "See Spot run!\n",
      "I drive Farley around San Francisco in my Prius\n"
     ]
    }
   ],
   "source": [
    "dog = \"Spot\"\n",
    "cat = \"Farley\"\n",
    "city = \"San Francisco\"\n",
    "car = \"Prius\"\n",
    "print(f\"See {dog} run!\")\n",
    "print(f\"I drive {cat} around {city} in my {car}\")"
   ]
  },
  {
   "cell_type": "code",
   "execution_count": 31,
   "id": "9e1a4c84-7bb1-4487-aef1-e25739b4a640",
   "metadata": {},
   "outputs": [
    {
     "name": "stdout",
     "output_type": "stream",
     "text": [
      "You're total cost is 4250\n",
      "the rent is too high\n"
     ]
    }
   ],
   "source": [
    "variable_budget = 5000\n",
    "rent_cost = 1500\n",
    "utilities_cost = 150\n",
    "food_cost = 250\n",
    "transportation_cost = 350\n",
    "computer_cost = 2000\n",
    "total_cost = (rent_cost + utilities_cost + food_cost + transportation_cost + computer_cost)\n",
    "if total_cost <= variable_budget:\n",
    "    print(f\"You're total cost is {total_cost}\")\n",
    "else:\n",
    "    print(f\"You're over budget by {total_cost - variable_budget}\")\n",
    "if rent_cost > utilities_cost + food_cost + transportation_cost:\n",
    "    print(\"the rent is too high\")\n",
    "else:\n",
    "    print(\"good\")\n"
   ]
  },
  {
   "cell_type": "code",
   "execution_count": null,
   "id": "e816d0e8-270f-4bc5-adb1-30828b31a09e",
   "metadata": {},
   "outputs": [],
   "source": []
  }
 ],
 "metadata": {
  "kernelspec": {
   "display_name": "Python 3 (ipykernel)",
   "language": "python",
   "name": "python3"
  },
  "language_info": {
   "codemirror_mode": {
    "name": "ipython",
    "version": 3
   },
   "file_extension": ".py",
   "mimetype": "text/x-python",
   "name": "python",
   "nbconvert_exporter": "python",
   "pygments_lexer": "ipython3",
   "version": "3.9.12"
  }
 },
 "nbformat": 4,
 "nbformat_minor": 5
}
