{
 "cells": [
  {
   "cell_type": "code",
   "execution_count": 3,
   "id": "45d9d783-fa91-4848-b34e-87939fbc6a68",
   "metadata": {},
   "outputs": [],
   "source": [
    "from pathlib import Path"
   ]
  },
  {
   "cell_type": "code",
   "execution_count": 4,
   "id": "f42795fb-7a27-4d51-8378-5fe58ee50a46",
   "metadata": {},
   "outputs": [],
   "source": [
    "import csv"
   ]
  },
  {
   "cell_type": "code",
   "execution_count": 5,
   "id": "2e34cc7e-ce73-4f35-8e4c-81dafdbece7b",
   "metadata": {},
   "outputs": [],
   "source": [
    "csv = Path('../CSV_.ipynb')"
   ]
  },
  {
   "cell_type": "code",
   "execution_count": null,
   "id": "afec799e-7f64-40a8-b880-313aae3ba6a2",
   "metadata": {},
   "outputs": [],
   "source": []
  }
 ],
 "metadata": {
  "kernelspec": {
   "display_name": "Python 3 (ipykernel)",
   "language": "python",
   "name": "python3"
  },
  "language_info": {
   "codemirror_mode": {
    "name": "ipython",
    "version": 3
   },
   "file_extension": ".py",
   "mimetype": "text/x-python",
   "name": "python",
   "nbconvert_exporter": "python",
   "pygments_lexer": "ipython3",
   "version": "3.9.12"
  }
 },
 "nbformat": 4,
 "nbformat_minor": 5
}
