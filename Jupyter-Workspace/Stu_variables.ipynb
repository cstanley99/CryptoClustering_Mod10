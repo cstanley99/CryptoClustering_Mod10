{
 "cells": [
  {
   "cell_type": "code",
   "execution_count": 9,
   "id": "0ab647ff-271c-4a26-8e31-a62369902756",
   "metadata": {},
   "outputs": [
    {
     "name": "stdout",
     "output_type": "stream",
     "text": [
      "55.44999999999999\n",
      "27.882536330265996\n",
      "Apple's original stock price was $198.87\n",
      "Apples current stock price is $254.32\n",
      "Apple appreciated by $55.44999999999999\n",
      "Apple percentage increase 27.88%\n"
     ]
    }
   ],
   "source": [
    "# Percent Increase Bonus Activity\n",
    "\n",
    "# Formulas\n",
    "# Increase = Current Price - Original Price\n",
    "# Percent Increase = Increase / Original x 100\n",
    "original_price = 198.87\n",
    "current_price = 254.32\n",
    "increase = current_price - original_price\n",
    "percentage_increase = increase / original_price * 100\n",
    "print(increase)\n",
    "print(percentage_increase)\n",
    "\n",
    "\n",
    "# Create float variable for original_price\n",
    "\n",
    "\n",
    "# Create float variable for current_price\n",
    "\n",
    "\n",
    "# Calculate difference between current_price and original_price\n",
    "\n",
    "\n",
    "# Calculate percent_increase\n",
    "\n",
    "\n",
    "# Print original_price\n",
    "print(f\"Apple's original stock price was ${original_price}\")\n",
    "\n",
    "# Print current_price\n",
    "print(f\"Apples current stock price is ${current_price}\")\n",
    "print(f\"Apple appreciated by ${increase}\")\n",
    "\n",
    "# Print percent_increase\n",
    "print(\"Apple percentage increase\", \"{:.2f}%\".format(percentage_increase))\n",
    "\n"
   ]
  },
  {
   "cell_type": "code",
   "execution_count": null,
   "id": "673441e3-5584-4f5b-a67d-db63f9c3f1cc",
   "metadata": {},
   "outputs": [],
   "source": []
  },
  {
   "cell_type": "code",
   "execution_count": null,
   "id": "1588628b-297f-42c6-80f3-7d4e1213d457",
   "metadata": {},
   "outputs": [],
   "source": []
  }
 ],
 "metadata": {
  "kernelspec": {
   "display_name": "Python 3 (ipykernel)",
   "language": "python",
   "name": "python3"
  },
  "language_info": {
   "codemirror_mode": {
    "name": "ipython",
    "version": 3
   },
   "file_extension": ".py",
   "mimetype": "text/x-python",
   "name": "python",
   "nbconvert_exporter": "python",
   "pygments_lexer": "ipython3",
   "version": "3.9.12"
  }
 },
 "nbformat": 4,
 "nbformat_minor": 5
}
