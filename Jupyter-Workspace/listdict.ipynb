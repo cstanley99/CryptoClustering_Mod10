{
 "cells": [
  {
   "cell_type": "code",
   "execution_count": 60,
   "id": "5523dfef-566b-463c-b97d-5033ab86f663",
   "metadata": {},
   "outputs": [
    {
     "name": "stdout",
     "output_type": "stream",
     "text": [
      "Tom\n",
      "Bell\n",
      "0\n",
      "Marie\n",
      "Galarza\n",
      "Joe\n",
      "Bloggs\n"
     ]
    },
    {
     "ename": "NameError",
     "evalue": "name 'first_name' is not defined",
     "output_type": "error",
     "traceback": [
      "\u001b[1;31m---------------------------------------------------------------------------\u001b[0m",
      "\u001b[1;31mNameError\u001b[0m                                 Traceback (most recent call last)",
      "Input \u001b[1;32mIn [60]\u001b[0m, in \u001b[0;36m<cell line: 15>\u001b[1;34m()\u001b[0m\n\u001b[0;32m     13\u001b[0m \u001b[38;5;28;01mdef\u001b[39;00m \u001b[38;5;21mcreate_greeting\u001b[39m(first_name, last_name, revenue):\n\u001b[0;32m     14\u001b[0m         \u001b[38;5;28mprint\u001b[39m(\u001b[38;5;124mf\u001b[39m\u001b[38;5;124m\"\u001b[39m\u001b[38;5;124mThank you, \u001b[39m\u001b[38;5;132;01m{\u001b[39;00mcustomer_list\u001b[38;5;132;01m}\u001b[39;00m\u001b[38;5;124m\"\u001b[39m)\n\u001b[1;32m---> 15\u001b[0m create_greeting(\u001b[43mfirst_name\u001b[49m, last_name, revenue)\n",
      "\u001b[1;31mNameError\u001b[0m: name 'first_name' is not defined"
     ]
    }
   ],
   "source": [
    "customer_list = [{ \"first_name\": \"Tom\", \"last_name\": \"Bell\", \"revenue\": 0 },\n",
    "                 { \"first_name\": \"Maggie\", \"last_name\": \"Johnson\", \"revenue\": 1032 },\n",
    "                 { \"first_name\": \"Joe\", \"last_name\": \"Bloggs\", \"revenue\": 2543 },\n",
    "                 { \"first_name\": \"Marie\", \"last_name\": \"Galarza\", \"revenue\": 5322 }]\n",
    "\n",
    "print(customer_list[0][\"first_name\"])\n",
    "print(customer_list[0][\"last_name\"])\n",
    "print(customer_list[0][\"revenue\"])\n",
    "print(customer_list[3][\"first_name\"])\n",
    "print(customer_list[3][\"last_name\"])\n",
    "print(customer_list[2][\"first_name\"])\n",
    "print(customer_list[2][\"last_name\"])\n",
    "def create_greeting(first_name, last_name, revenue):\n",
    "        print(f\"Thank you, {customer_list}\")\n",
    "create_greeting(first_name, last_name, revenue)"
   ]
  },
  {
   "cell_type": "code",
   "execution_count": 56,
   "id": "51af48c8-9e3c-4c61-af04-a588ad71aac9",
   "metadata": {},
   "outputs": [],
   "source": [
    "   \n",
    "    \n",
    "    \n",
    "    def create_greeting(first_name, last_name, revenue):\n",
    "        print(f\"Thank you, {customer_list}\")"
   ]
  },
  {
   "cell_type": "code",
   "execution_count": 54,
   "id": "f70f6d83-3564-4f95-bf9f-d1d680bb295c",
   "metadata": {},
   "outputs": [
    {
     "name": "stdout",
     "output_type": "stream",
     "text": [
      "Harry Markowitz\n"
     ]
    }
   ],
   "source": [
    "# Traverse/access nested objects\n",
    "# List of Dicts\n",
    "ceo_nested_dict = [\n",
    "  {\n",
    "      \"name\": \"Warren Buffet\",\n",
    "      \"age\": 88,\n",
    "      \"occupation\": \"CEO of Berkshire Hathaway\"\n",
    "  },\n",
    "  {\n",
    "      \"name\": \"Jeff Bezos\",\n",
    "      \"age\": 55,\n",
    "      \"occupation\": \"CEO of Amazon\"\n",
    "  },\n",
    "  {\n",
    "      \"name\": \"Harry Markowitz\",\n",
    "      \"age\": 91,\n",
    "      \"occupation\": \"Professor of Finance\"\n",
    "  }\n",
    "]\n",
    "print(ceo_nested_dict[2][\"name\"])"
   ]
  },
  {
   "cell_type": "code",
   "execution_count": 46,
   "id": "d8cffca0-05db-4308-a0e5-157533be4cd2",
   "metadata": {},
   "outputs": [
    {
     "name": "stdout",
     "output_type": "stream",
     "text": [
      "Creating a list of Pokemon...\n",
      "['Pikachu', 'Charizard']\n"
     ]
    }
   ],
   "source": [
    "   # Lists\n",
    "# Create a list of Pokemon\n",
    "print(\"Creating a list of Pokemon...\")\n",
    "pokemon = [\"Pikachu\", \"Charizard\", \"Bulbasaur\", \"Garydos\", \"Dragonite\", \"Onyx\"]\n",
    "print(pokemon[0:2])\n"
   ]
  },
  {
   "cell_type": "code",
   "execution_count": 43,
   "id": "21414ddc-de06-430f-95d5-b5b29c89c5ba",
   "metadata": {},
   "outputs": [
    {
     "name": "stdout",
     "output_type": "stream",
     "text": [
      "stranger things\n"
     ]
    }
   ],
   "source": [
    "# Conditionals\n",
    "# Declare variables and values for evaluation\n",
    "x = 11\n",
    "y = 9\n",
    "\n",
    "# Checks if one value is equal to another\n",
    "if x == 1:\n",
    "  print(\"x is equal to 1\")\n",
    "if y == 10:\n",
    "    print(\"y is equal to 10\")\n",
    "elif x==11:\n",
    "    print(\"stranger things\")\n",
    "else: \n",
    "    print(\"out of lucK\")\n"
   ]
  },
  {
   "cell_type": "code",
   "execution_count": null,
   "id": "f643b28d-e1fb-449b-b849-3c2ee595bc68",
   "metadata": {},
   "outputs": [],
   "source": []
  }
 ],
 "metadata": {
  "kernelspec": {
   "display_name": "Python 3 (ipykernel)",
   "language": "python",
   "name": "python3"
  },
  "language_info": {
   "codemirror_mode": {
    "name": "ipython",
    "version": 3
   },
   "file_extension": ".py",
   "mimetype": "text/x-python",
   "name": "python",
   "nbconvert_exporter": "python",
   "pygments_lexer": "ipython3",
   "version": "3.9.12"
  }
 },
 "nbformat": 4,
 "nbformat_minor": 5
}
