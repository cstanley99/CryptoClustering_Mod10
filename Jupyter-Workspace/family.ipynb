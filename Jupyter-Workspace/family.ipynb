{
 "cells": [
  {
   "cell_type": "code",
   "execution_count": 34,
   "id": "559bd946-46f1-4aca-ad4e-aa2fb8f7b75c",
   "metadata": {},
   "outputs": [],
   "source": [
    "daughter = \"Elle\"\n",
    "daughter_next = \"Genevieve\"\n",
    "daughter_next_age = \"13\"\n",
    "daughter_age = \"14\"\n",
    "these_are_my_kids = True\n",
    "son = \"Charlie\"\n"
   ]
  },
  {
   "cell_type": "code",
   "execution_count": 32,
   "id": "cf44e50a-5383-40b3-9e72-7880c255ce27",
   "metadata": {},
   "outputs": [
    {
     "name": "stdout",
     "output_type": "stream",
     "text": [
      "Elle\n",
      "14\n",
      "Genevieve\n",
      "13\n",
      "Charlie\n",
      "My daughter's names are Elle and Genevieve\n",
      "My son's name is Charlie\n"
     ]
    }
   ],
   "source": [
    "print(daughter)\n",
    "print(daughter_age)\n",
    "print(daughter_next)\n",
    "print(daughter_next_age)\n",
    "print(son)\n",
    "print(f\"My daughter's names are {daughter} and {daughter_next}\")\n",
    "print(f\"My son's name is {son}\") "
   ]
  },
  {
   "cell_type": "code",
   "execution_count": 35,
   "id": "084f2874-7fc8-472c-b503-f0ea414f84e7",
   "metadata": {},
   "outputs": [
    {
     "data": {
      "text/plain": [
       "True"
      ]
     },
     "execution_count": 35,
     "metadata": {},
     "output_type": "execute_result"
    }
   ],
   "source": [
    "these_are_my_kids"
   ]
  },
  {
   "cell_type": "code",
   "execution_count": null,
   "id": "cae95f59-2470-4ba1-8923-9f3ef3bfd0ba",
   "metadata": {},
   "outputs": [],
   "source": [
    "print(daughter)\n",
    "print(daughter_age)\n",
    "print(daughter_next)\n",
    "print(daughter_next_age)\n",
    "print(f\"My daughter's names are {daughter} {daughter_next}\")"
   ]
  },
  {
   "cell_type": "code",
   "execution_count": 26,
   "id": "5837d90a-c120-4ebf-887e-fef2ada91421",
   "metadata": {
    "tags": []
   },
   "outputs": [
    {
     "name": "stdout",
     "output_type": "stream",
     "text": [
      "14\n",
      "Elle\n",
      "Genevieve\n",
      "14\n",
      "My daughter's names are Elle Genevieve\n"
     ]
    }
   ],
   "source": [
    "print(daughter_age)\n",
    "print(daughter)\n",
    "print(daughter_next)\n",
    "print(daughter_age)\n",
    "print(f\"My daughter's names are {daughter} {daughter_next}\")\n",
    "    "
   ]
  },
  {
   "cell_type": "code",
   "execution_count": null,
   "id": "aca69f6b-ed23-46d0-9f11-5e08ebd36f2c",
   "metadata": {},
   "outputs": [],
   "source": [
    "daughter = \"Elle\"\n",
    "daughter_next = \"Genevieve\"\n",
    "daughter_next_age = \"13\"\n",
    "daughter_age = \"14\"\n",
    "these_are_my_daughters = True"
   ]
  }
 ],
 "metadata": {
  "kernelspec": {
   "display_name": "Python 3 (ipykernel)",
   "language": "python",
   "name": "python3"
  },
  "language_info": {
   "codemirror_mode": {
    "name": "ipython",
    "version": 3
   },
   "file_extension": ".py",
   "mimetype": "text/x-python",
   "name": "python",
   "nbconvert_exporter": "python",
   "pygments_lexer": "ipython3",
   "version": "3.9.12"
  }
 },
 "nbformat": 4,
 "nbformat_minor": 5
}
