{
 "cells": [
  {
   "cell_type": "code",
   "execution_count": 1,
   "id": "c24b286c-f805-47c4-ab2b-fb25130089e7",
   "metadata": {},
   "outputs": [
    {
     "ename": "NameError",
     "evalue": "name 'future_value' is not defined",
     "output_type": "error",
     "traceback": [
      "\u001b[1;31m--------------------------------------------------------\u001b[0m",
      "\u001b[1;31mNameError\u001b[0m              Traceback (most recent call last)",
      "Input \u001b[1;32mIn [1]\u001b[0m, in \u001b[0;36m<cell line: 1>\u001b[1;34m()\u001b[0m\n\u001b[1;32m----> 1\u001b[0m present_value \u001b[38;5;241m=\u001b[39m \u001b[43mfuture_value\u001b[49m \u001b[38;5;241m/\u001b[39m (\n\u001b[0;32m      2\u001b[0m         (\u001b[38;5;241m1\u001b[39m \u001b[38;5;241m+\u001b[39m (discount_rate \u001b[38;5;241m/\u001b[39m compounding_periods)) \u001b[38;5;241m*\u001b[39m\u001b[38;5;241m*\u001b[39m (compounding_periods \u001b[38;5;241m*\u001b[39m years)\n\u001b[0;32m      3\u001b[0m     )\n",
      "\u001b[1;31mNameError\u001b[0m: name 'future_value' is not defined"
     ]
    }
   ],
   "source": [
    "present_value = future_value / (\n",
    "        (1 + (discount_rate / compounding_periods)) ** (compounding_periods * years)\n",
    "    )\n"
   ]
  }
 ],
 "metadata": {
  "kernelspec": {
   "display_name": "Python 3 (ipykernel)",
   "language": "python",
   "name": "python3"
  },
  "language_info": {
   "codemirror_mode": {
    "name": "ipython",
    "version": 3
   },
   "file_extension": ".py",
   "mimetype": "text/x-python",
   "name": "python",
   "nbconvert_exporter": "python",
   "pygments_lexer": "ipython3",
   "version": "3.9.12"
  }
 },
 "nbformat": 4,
 "nbformat_minor": 5
}
