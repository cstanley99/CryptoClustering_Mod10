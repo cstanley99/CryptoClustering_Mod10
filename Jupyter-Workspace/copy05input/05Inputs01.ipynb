{
 "cells": [
  {
   "cell_type": "code",
   "execution_count": 22,
   "id": "3bdb9214-daa5-4d9e-b2b7-875e042e593c",
   "metadata": {},
   "outputs": [
    {
     "name": "stdin",
     "output_type": "stream",
     "text": [
      "Welcome to the sandwich shop, what is your name? charlie\n"
     ]
    },
    {
     "name": "stdout",
     "output_type": "stream",
     "text": [
      "Hello charlie\n"
     ]
    },
    {
     "name": "stdin",
     "output_type": "stream",
     "text": [
      "Are you here for a sandwich? Yes or No? Yes\n",
      "What kind of sandwich would you like? turkey\n"
     ]
    },
    {
     "name": "stdout",
     "output_type": "stream",
     "text": [
      "Please wait 10 min for your turkey\n"
     ]
    }
   ],
   "source": [
    "welcome_name = input(\"Welcome to the sandwich shop, what is your name?\")\n",
    "print(f\"Hello {welcome_name}\")\n",
    "question_sandwich = input(\"Are you here for a sandwich? Yes or No?\")\n",
    "if question_sandwich == \"Yes\":\n",
    "    food_prompt = input(\"What kind of sandwich would you like?\")   \n",
    "    print(f\"Please wait 10 min for your {food_prompt}\")\n",
    "elif question_sandwich == \"No\":\n",
    "    print(\"then what are you here for?\")\n",
    "else:\n",
    "    print(\"You didn't answer Yes or No!\")"
   ]
  },
  {
   "cell_type": "code",
   "execution_count": null,
   "id": "4d2c1eaa-05aa-40d3-8a2f-1ec96985e8d4",
   "metadata": {},
   "outputs": [],
   "source": []
  }
 ],
 "metadata": {
  "kernelspec": {
   "display_name": "Python 3 (ipykernel)",
   "language": "python",
   "name": "python3"
  },
  "language_info": {
   "codemirror_mode": {
    "name": "ipython",
    "version": 3
   },
   "file_extension": ".py",
   "mimetype": "text/x-python",
   "name": "python",
   "nbconvert_exporter": "python",
   "pygments_lexer": "ipython3",
   "version": "3.9.12"
  }
 },
 "nbformat": 4,
 "nbformat_minor": 5
}
