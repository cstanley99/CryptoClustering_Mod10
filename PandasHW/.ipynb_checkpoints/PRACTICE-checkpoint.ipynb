{
 "cells": [
  {
   "cell_type": "code",
   "execution_count": null,
   "id": "4c1d5563-d2dc-4c89-b69c-6d7f0e811c64",
   "metadata": {},
   "outputs": [],
   "source": [
    "#this actually worked to change column names\n",
    "my_returns.columns = [\"DE\",\"CAT\",\"F\"]"
   ]
  },
  {
   "cell_type": "code",
   "execution_count": null,
   "id": "67b51cf5-d5df-422d-afe1-0d18bde7c8b6",
   "metadata": {},
   "outputs": [],
   "source": [
    "pct_returns = pct_returns.rename(columns={\"Close\":\"DE\",\"Close\":\"CAT\",\"Close\":\"F\"})\n",
    "pct_returns.head()"
   ]
  },
  {
   "cell_type": "code",
   "execution_count": null,
   "id": "bcee5140-5a45-4580-98d6-18ad3ceccfb2",
   "metadata": {},
   "outputs": [],
   "source": [
    "pct_returns.columns.values[0:3] =[\"DE\", \"CAT\", \"F\" ]\n",
    "pct_returns.head(3)"
   ]
  },
  {
   "cell_type": "code",
   "execution_count": null,
   "id": "31054c04-b366-42e6-8661-e0949609290a",
   "metadata": {},
   "outputs": [],
   "source": [
    "# Reorganize portfolio data by having a column per symbol\n",
    "#couldnt get this to work\n",
    "my_returns = my_returns.rename(columns={\"Close\":\"DE\",\"Close\":\"CAT\",\"Close\":\"F\"})\n",
    "my_returns.head(4)"
   ]
  },
  {
   "cell_type": "code",
   "execution_count": null,
   "id": "c8914f65-cf0d-4a67-a578-b822e47d4337",
   "metadata": {},
   "outputs": [],
   "source": [
    "portfolio = my_returns.pivot_table(values=\"Close\",index=\"Date\",columns=\"Symbol\")"
   ]
  },
  {
   "cell_type": "code",
   "execution_count": null,
   "id": "dc0d15a2-5add-42b2-8b4f-3f8eb0ddf6ba",
   "metadata": {},
   "outputs": [],
   "source": [
    "# Calculate daily returns\n",
    "my_daily_returns = my_returns.pct_change()\n",
    "my_daily_returns.head()\n",
    "# Drop NAs\n",
    "my_daily_returns = my_returns.dropna().copy()\n",
    "# Display sample data\n",
    "my_daily_returns.head()"
   ]
  },
  {
   "cell_type": "code",
   "execution_count": null,
   "id": "c95fb1ca-2841-4116-a671-ae9e3eb4c0b0",
   "metadata": {},
   "outputs": [],
   "source": [
    "#couldn't get this to work\n",
    "my_returns = my_returns.columns.values[0:3] =[\"DE\", \"CAT\", \"F\" ]\n",
    "my_returns.head(3)"
   ]
  }
 ],
 "metadata": {
  "kernelspec": {
   "display_name": "Python 3 (ipykernel)",
   "language": "python",
   "name": "python3"
  },
  "language_info": {
   "codemirror_mode": {
    "name": "ipython",
    "version": 3
   },
   "file_extension": ".py",
   "mimetype": "text/x-python",
   "name": "python",
   "nbconvert_exporter": "python",
   "pygments_lexer": "ipython3",
   "version": "3.9.12"
  }
 },
 "nbformat": 4,
 "nbformat_minor": 5
}
