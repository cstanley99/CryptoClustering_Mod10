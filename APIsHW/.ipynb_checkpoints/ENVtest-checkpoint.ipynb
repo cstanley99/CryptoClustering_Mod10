{
 "cells": [
  {
   "cell_type": "code",
   "execution_count": null,
   "id": "12050781-3a60-4677-ae35-90e2f35bdf12",
   "metadata": {},
   "outputs": [],
   "source": [
    "# Import dotenv package for setting environment variables\n",
    "from dotenv import load_dotenv\n",
    "# Import os package\n",
    "import os\n",
    "import requests\n",
    "# Set environment variables from the .env in the local environment\n",
    "load_dotenv()\n",
    "\n",
    "# Retrieve API key and store as Python variable\n",
    "api_key = os.getenv(\"NASDAQ_API_KEY\")\n",
    "\n"
   ]
  },
  {
   "cell_type": "code",
   "execution_count": null,
   "id": "4200558d-30f9-4723-90f2-63879d9b783a",
   "metadata": {},
   "outputs": [],
   "source": [
    "type(api_key)"
   ]
  },
  {
   "cell_type": "code",
   "execution_count": null,
   "id": "3e305f73-1bfd-452d-8a80-6ce84b006b00",
   "metadata": {},
   "outputs": [],
   "source": [
    "# Define the base request URL\n",
    "request_url = \"https://data.nasdaq.com/api/v3/datasets/WIKI/MSFT.json?api_key=\"\n",
    "\n",
    "# Concatenate request_url and api_key. Store as new variable\n",
    "request_url = request_url + api_key"
   ]
  },
  {
   "cell_type": "code",
   "execution_count": null,
   "id": "4354ea39-0299-437b-b8c9-86e78c44ab45",
   "metadata": {},
   "outputs": [],
   "source": [
    "# Execute get request\n",
    "response_data = requests.get(request_url)"
   ]
  },
  {
   "cell_type": "code",
   "execution_count": null,
   "id": "add75849-5cb4-47b7-9daf-9af930d90ac4",
   "metadata": {},
   "outputs": [],
   "source": [
    "response_data.content"
   ]
  },
  {
   "cell_type": "code",
   "execution_count": null,
   "id": "ecdb6aab-f52c-4320-a822-ede18a949640",
   "metadata": {},
   "outputs": [],
   "source": []
  }
 ],
 "metadata": {
  "kernelspec": {
   "display_name": "Python 3 (ipykernel)",
   "language": "python",
   "name": "python3"
  },
  "language_info": {
   "codemirror_mode": {
    "name": "ipython",
    "version": 3
   },
   "file_extension": ".py",
   "mimetype": "text/x-python",
   "name": "python",
   "nbconvert_exporter": "python",
   "pygments_lexer": "ipython3",
   "version": "3.7.13"
  }
 },
 "nbformat": 4,
 "nbformat_minor": 5
}
