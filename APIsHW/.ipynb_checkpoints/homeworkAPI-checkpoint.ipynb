{
 "cells": [
  {
   "cell_type": "code",
   "execution_count": 111,
   "id": "d0944c8a-3699-47cf-83a9-66f7e7f008ea",
   "metadata": {},
   "outputs": [
    {
     "ename": "ModuleNotFoundError",
     "evalue": "No module named 'MCForecastTools'",
     "output_type": "error",
     "traceback": [
      "\u001b[1;31m---------------------------------------------------------------------------\u001b[0m",
      "\u001b[1;31mModuleNotFoundError\u001b[0m                       Traceback (most recent call last)",
      "\u001b[1;32m~\\AppData\\Local\\Temp\\ipykernel_25488\\1583159412.py\u001b[0m in \u001b[0;36m<module>\u001b[1;34m\u001b[0m\n\u001b[0;32m      5\u001b[0m \u001b[1;32mfrom\u001b[0m \u001b[0mdotenv\u001b[0m \u001b[1;32mimport\u001b[0m \u001b[0mload_dotenv\u001b[0m\u001b[1;33m\u001b[0m\u001b[1;33m\u001b[0m\u001b[0m\n\u001b[0;32m      6\u001b[0m \u001b[1;32mimport\u001b[0m \u001b[0malpaca_trade_api\u001b[0m \u001b[1;32mas\u001b[0m \u001b[0mtradeapi\u001b[0m\u001b[1;33m\u001b[0m\u001b[1;33m\u001b[0m\u001b[0m\n\u001b[1;32m----> 7\u001b[1;33m \u001b[1;32mfrom\u001b[0m \u001b[0mMCForecastTools\u001b[0m \u001b[1;32mimport\u001b[0m \u001b[0mMCSimulation\u001b[0m\u001b[1;33m\u001b[0m\u001b[1;33m\u001b[0m\u001b[0m\n\u001b[0m\u001b[0;32m      8\u001b[0m \u001b[1;33m\u001b[0m\u001b[0m\n\u001b[0;32m      9\u001b[0m \u001b[0mget_ipython\u001b[0m\u001b[1;33m(\u001b[0m\u001b[1;33m)\u001b[0m\u001b[1;33m.\u001b[0m\u001b[0mrun_line_magic\u001b[0m\u001b[1;33m(\u001b[0m\u001b[1;34m'matplotlib'\u001b[0m\u001b[1;33m,\u001b[0m \u001b[1;34m'inline'\u001b[0m\u001b[1;33m)\u001b[0m\u001b[1;33m\u001b[0m\u001b[1;33m\u001b[0m\u001b[0m\n",
      "\u001b[1;31mModuleNotFoundError\u001b[0m: No module named 'MCForecastTools'"
     ]
    }
   ],
   "source": [
    "# Initial imports\n",
    "import os\n",
    "import requests\n",
    "import pandas as pd\n",
    "from dotenv import load_dotenv\n",
    "import alpaca_trade_api as tradeapi\n",
    "from MCForecastTools import MCSimulation\n",
    "\n",
    "%matplotlib inline\n"
   ]
  },
  {
   "cell_type": "code",
   "execution_count": 112,
   "id": "bef6d250-d9e5-4e72-8804-cd436aaf70d9",
   "metadata": {},
   "outputs": [
    {
     "data": {
      "text/plain": [
       "True"
      ]
     },
     "execution_count": 112,
     "metadata": {},
     "output_type": "execute_result"
    }
   ],
   "source": [
    "# Load .env enviroment variables\n",
    "load_dotenv()"
   ]
  },
  {
   "cell_type": "code",
   "execution_count": 113,
   "id": "25808775-eb92-4e38-86af-9ce08744b88e",
   "metadata": {},
   "outputs": [],
   "source": [
    "#set current amount of crypto assets\n",
    "my_btc = 1.2\n",
    "my_eth = 5.3"
   ]
  },
  {
   "cell_type": "code",
   "execution_count": 114,
   "id": "a173918f-3e1e-445f-83aa-f686d62456f3",
   "metadata": {},
   "outputs": [],
   "source": [
    "# Crypto API URLs\n",
    "btc_url = \"https://api.alternative.me/v2/ticker/Bitcoin/?convert=USD\"\n",
    "eth_url = \"https://api.alternative.me/v2/ticker/Ethereum/?convert=USD\""
   ]
  },
  {
   "cell_type": "code",
   "execution_count": 115,
   "id": "ff6cb27d-3ff2-4b08-a9d7-4e708046183f",
   "metadata": {},
   "outputs": [],
   "source": [
    "#Convert btc_url to JSON format\n",
    "import json\n",
    "btc_url=btc_url + \"?format=json\"\n",
    "\n",
    "#Use requests to gather data\n",
    "requests.get(btc_url)\n",
    "response_data=requests.get(btc_url)\n",
    "btc_content=response_data.content"
   ]
  },
  {
   "cell_type": "code",
   "execution_count": 116,
   "id": "e90bcc1c-5e04-4a7c-ada4-da2792a71664",
   "metadata": {},
   "outputs": [
    {
     "name": "stdout",
     "output_type": "stream",
     "text": [
      "{\n",
      "    \"data\": {\n",
      "        \"1\": {\n",
      "            \"id\": 1,\n",
      "            \"name\": \"Bitcoin\",\n",
      "            \"symbol\": \"BTC\",\n",
      "            \"website_slug\": \"bitcoin\",\n",
      "            \"rank\": 1,\n",
      "            \"circulating_supply\": 19114362,\n",
      "            \"total_supply\": 19114362,\n",
      "            \"max_supply\": 21000000,\n",
      "            \"quotes\": {\n",
      "                \"USD\": {\n",
      "                    \"price\": 23193.0,\n",
      "                    \"volume_24h\": 14406588011,\n",
      "                    \"market_cap\": 443478204119,\n",
      "                    \"percentage_change_1h\": -0.0762060048946942,\n",
      "                    \"percentage_change_24h\": -0.20534252812312,\n",
      "                    \"percentage_change_7d\": -2.74495649018968,\n",
      "                    \"percent_change_1h\": -0.0762060048946942,\n",
      "                    \"percent_change_24h\": -0.20534252812312,\n",
      "                    \"percent_change_7d\": -2.74495649018968\n",
      "                }\n",
      "            },\n",
      "            \"last_updated\": 1659826474\n",
      "        }\n",
      "    },\n",
      "    \"metadata\": {\n",
      "        \"timestamp\": 1659826474,\n",
      "        \"num_cryptocurrencies\": 3116,\n",
      "        \"error\": null\n",
      "    }\n",
      "}\n"
     ]
    }
   ],
   "source": [
    "#Generate output\n",
    "btc_data=response_data.json()\n",
    "print(json.dumps(btc_data,indent=4))"
   ]
  },
  {
   "cell_type": "code",
   "execution_count": 117,
   "id": "55cae72c-714b-496b-b113-2ca5c14bc63c",
   "metadata": {},
   "outputs": [
    {
     "name": "stdout",
     "output_type": "stream",
     "text": [
      "23193.0\n"
     ]
    }
   ],
   "source": [
    "btc_price=btc_data[\"data\"][\"1\"][\"quotes\"][\"USD\"][\"price\"]\n",
    "print(btc_price)"
   ]
  },
  {
   "cell_type": "code",
   "execution_count": 118,
   "id": "3267e6d5-fea4-4bd5-9940-77a9dd073593",
   "metadata": {},
   "outputs": [],
   "source": [
    "#Repeat process for ETH \n",
    "eth_url=eth_url+\"?format=json\"\n",
    "requests.get(eth_url)\n",
    "response_data=requests.get(eth_url)\n",
    "eth_content=response_data.content"
   ]
  },
  {
   "cell_type": "code",
   "execution_count": 119,
   "id": "a9a8df02-5752-4c93-9187-93eec65dfe2c",
   "metadata": {},
   "outputs": [
    {
     "name": "stdout",
     "output_type": "stream",
     "text": [
      "{\n",
      "    \"data\": {\n",
      "        \"1027\": {\n",
      "            \"id\": 1027,\n",
      "            \"name\": \"Ethereum\",\n",
      "            \"symbol\": \"ETH\",\n",
      "            \"website_slug\": \"ethereum\",\n",
      "            \"rank\": 2,\n",
      "            \"circulating_supply\": 119990994,\n",
      "            \"total_supply\": 119990994,\n",
      "            \"max_supply\": 119990908,\n",
      "            \"quotes\": {\n",
      "                \"USD\": {\n",
      "                    \"price\": 1713.55,\n",
      "                    \"volume_24h\": 11542965250,\n",
      "                    \"market_cap\": 205837384160,\n",
      "                    \"percentage_change_1h\": -0.214027330587075,\n",
      "                    \"percentage_change_24h\": -0.108983747059325,\n",
      "                    \"percentage_change_7d\": -1.46571855001515,\n",
      "                    \"percent_change_1h\": -0.214027330587075,\n",
      "                    \"percent_change_24h\": -0.108983747059325,\n",
      "                    \"percent_change_7d\": -1.46571855001515\n",
      "                }\n",
      "            },\n",
      "            \"last_updated\": 1659826445\n",
      "        }\n",
      "    },\n",
      "    \"metadata\": {\n",
      "        \"timestamp\": 1659826445,\n",
      "        \"num_cryptocurrencies\": 3116,\n",
      "        \"error\": null\n",
      "    }\n",
      "}\n"
     ]
    }
   ],
   "source": [
    "eth_data=response_data.json()\n",
    "print(json.dumps(eth_data,indent=4))"
   ]
  },
  {
   "cell_type": "code",
   "execution_count": 120,
   "id": "2d151b21-43e0-49f5-81e7-62f375f06f2c",
   "metadata": {},
   "outputs": [
    {
     "name": "stdout",
     "output_type": "stream",
     "text": [
      "1713.55\n"
     ]
    }
   ],
   "source": [
    "eth_price=eth_data['data']['1027']['quotes']['USD']['price']\n",
    "print(eth_price)"
   ]
  },
  {
   "cell_type": "code",
   "execution_count": null,
   "id": "e74d9dff-09a9-4bf1-a875-9506fad60212",
   "metadata": {},
   "outputs": [],
   "source": [
    "# Compute current value of my crpto\n",
    "btc_value=(my_btc*btc_price)\n",
    "eth_value=(my_eth*eth_price)\n",
    "total_value_crypto = (btc_value) + (eth_value)"
   ]
  },
  {
   "cell_type": "code",
   "execution_count": 144,
   "id": "9502feda-1e25-4547-a248-1c056e684506",
   "metadata": {},
   "outputs": [
    {
     "name": "stdout",
     "output_type": "stream",
     "text": [
      "The current value of your 1.2 BTC is $27831.60\n",
      "The current value of your 5.3 ETH is $9081.81\n"
     ]
    }
   ],
   "source": [
    "# Print current crypto wallet balance\n",
    "print(f\"The current value of your {my_btc} BTC is ${btc_value:0.2f}\")\n",
    "print(f\"The current value of your {my_eth} ETH is ${eth_value:0.2f}\")"
   ]
  },
  {
   "cell_type": "code",
   "execution_count": 123,
   "id": "b8f09864-2523-4862-bf18-01eaeb460977",
   "metadata": {},
   "outputs": [],
   "source": [
    "#Current amount of shares\n",
    "my_agg=200\n",
    "my_spy=50"
   ]
  },
  {
   "cell_type": "code",
   "execution_count": 124,
   "id": "d34580f1-bec3-413e-85aa-8087357338d6",
   "metadata": {},
   "outputs": [],
   "source": [
    "#Alpaca API KEYs\n",
    "alpaca_api_key=os.getenv(\"ALPACA_API_KEY\")\n",
    "alpaca_secret_key=os.getenv(\"ALPACA_SECRET_KEY\")"
   ]
  },
  {
   "cell_type": "code",
   "execution_count": 125,
   "id": "ed12ed19-bd9f-467e-a9e9-ad9302e929fb",
   "metadata": {},
   "outputs": [],
   "source": [
    "#Alpaca API object\n",
    "alpaca=tradeapi.REST(alpaca_api_key,alpaca_secret_key,api_version=\"v2\")"
   ]
  },
  {
   "cell_type": "code",
   "execution_count": 126,
   "id": "be63735c-9ea4-4047-b59b-096feb284e0b",
   "metadata": {},
   "outputs": [],
   "source": [
    "#current date in ISO format\n",
    "today=pd.Timestamp(\"2022-08-05\",tz=\"US/Eastern\").isoformat()"
   ]
  },
  {
   "cell_type": "code",
   "execution_count": 127,
   "id": "7fe7994c-7ae6-4ed5-93e2-c7607fb90c12",
   "metadata": {},
   "outputs": [],
   "source": [
    "tickers=['AGG','SPY']"
   ]
  },
  {
   "cell_type": "code",
   "execution_count": 128,
   "id": "4cb21606-8c69-4856-9867-4b00c733514a",
   "metadata": {},
   "outputs": [],
   "source": [
    "#Timeframe for Alpaca API\n",
    "timeframe='1day'"
   ]
  },
  {
   "cell_type": "code",
   "execution_count": 129,
   "id": "6cae3b30-3bea-4175-9823-a3a286efbea9",
   "metadata": {},
   "outputs": [
    {
     "data": {
      "text/html": [
       "<div>\n",
       "<style scoped>\n",
       "    .dataframe tbody tr th:only-of-type {\n",
       "        vertical-align: middle;\n",
       "    }\n",
       "\n",
       "    .dataframe tbody tr th {\n",
       "        vertical-align: top;\n",
       "    }\n",
       "\n",
       "    .dataframe thead th {\n",
       "        text-align: right;\n",
       "    }\n",
       "</style>\n",
       "<table border=\"1\" class=\"dataframe\">\n",
       "  <thead>\n",
       "    <tr style=\"text-align: right;\">\n",
       "      <th></th>\n",
       "      <th>open</th>\n",
       "      <th>high</th>\n",
       "      <th>low</th>\n",
       "      <th>close</th>\n",
       "      <th>volume</th>\n",
       "      <th>trade_count</th>\n",
       "      <th>vwap</th>\n",
       "      <th>symbol</th>\n",
       "    </tr>\n",
       "    <tr>\n",
       "      <th>timestamp</th>\n",
       "      <th></th>\n",
       "      <th></th>\n",
       "      <th></th>\n",
       "      <th></th>\n",
       "      <th></th>\n",
       "      <th></th>\n",
       "      <th></th>\n",
       "      <th></th>\n",
       "    </tr>\n",
       "  </thead>\n",
       "  <tbody>\n",
       "    <tr>\n",
       "      <th>2022-08-05 04:00:00+00:00</th>\n",
       "      <td>102.81</td>\n",
       "      <td>102.83</td>\n",
       "      <td>102.52</td>\n",
       "      <td>102.71</td>\n",
       "      <td>4847064</td>\n",
       "      <td>16418</td>\n",
       "      <td>102.711038</td>\n",
       "      <td>AGG</td>\n",
       "    </tr>\n",
       "    <tr>\n",
       "      <th>2022-08-05 04:00:00+00:00</th>\n",
       "      <td>409.68</td>\n",
       "      <td>414.15</td>\n",
       "      <td>409.60</td>\n",
       "      <td>413.47</td>\n",
       "      <td>56751151</td>\n",
       "      <td>455450</td>\n",
       "      <td>412.292366</td>\n",
       "      <td>SPY</td>\n",
       "    </tr>\n",
       "  </tbody>\n",
       "</table>\n",
       "</div>"
      ],
      "text/plain": [
       "                             open    high     low   close    volume  \\\n",
       "timestamp                                                             \n",
       "2022-08-05 04:00:00+00:00  102.81  102.83  102.52  102.71   4847064   \n",
       "2022-08-05 04:00:00+00:00  409.68  414.15  409.60  413.47  56751151   \n",
       "\n",
       "                           trade_count        vwap symbol  \n",
       "timestamp                                                  \n",
       "2022-08-05 04:00:00+00:00        16418  102.711038    AGG  \n",
       "2022-08-05 04:00:00+00:00       455450  412.292366    SPY  "
      ]
     },
     "execution_count": 129,
     "metadata": {},
     "output_type": "execute_result"
    }
   ],
   "source": [
    "#closing prices for AGG,SPY\n",
    "df_port=alpaca.get_bars(tickers,timeframe,start=today,end=today).df\n",
    "df_port.head()                      "
   ]
  },
  {
   "cell_type": "code",
   "execution_count": 130,
   "id": "8230fdca-bcfd-430a-be76-b0fb6d7b4cb1",
   "metadata": {},
   "outputs": [],
   "source": [
    "#Seperate tickers\n",
    "AGG=df_port[df_port['symbol']=='AGG'].drop('symbol',axis=1)\n",
    "SPY=df_port[df_port['symbol']=='SPY'].drop('symbol',axis=1)"
   ]
  },
  {
   "cell_type": "code",
   "execution_count": 131,
   "id": "07fe88db-e149-4d57-9062-87604332b29c",
   "metadata": {},
   "outputs": [],
   "source": [
    "df_port=pd.concat([AGG,SPY], axis=1, keys=['AGG','SPY'])"
   ]
  },
  {
   "cell_type": "code",
   "execution_count": 132,
   "id": "66bf733d-edc5-4cd6-b8ef-5a6c2023a04c",
   "metadata": {},
   "outputs": [
    {
     "data": {
      "text/html": [
       "<div>\n",
       "<style scoped>\n",
       "    .dataframe tbody tr th:only-of-type {\n",
       "        vertical-align: middle;\n",
       "    }\n",
       "\n",
       "    .dataframe tbody tr th {\n",
       "        vertical-align: top;\n",
       "    }\n",
       "\n",
       "    .dataframe thead tr th {\n",
       "        text-align: left;\n",
       "    }\n",
       "\n",
       "    .dataframe thead tr:last-of-type th {\n",
       "        text-align: right;\n",
       "    }\n",
       "</style>\n",
       "<table border=\"1\" class=\"dataframe\">\n",
       "  <thead>\n",
       "    <tr>\n",
       "      <th></th>\n",
       "      <th colspan=\"7\" halign=\"left\">AGG</th>\n",
       "      <th colspan=\"7\" halign=\"left\">SPY</th>\n",
       "    </tr>\n",
       "    <tr>\n",
       "      <th></th>\n",
       "      <th>open</th>\n",
       "      <th>high</th>\n",
       "      <th>low</th>\n",
       "      <th>close</th>\n",
       "      <th>volume</th>\n",
       "      <th>trade_count</th>\n",
       "      <th>vwap</th>\n",
       "      <th>open</th>\n",
       "      <th>high</th>\n",
       "      <th>low</th>\n",
       "      <th>close</th>\n",
       "      <th>volume</th>\n",
       "      <th>trade_count</th>\n",
       "      <th>vwap</th>\n",
       "    </tr>\n",
       "    <tr>\n",
       "      <th>timestamp</th>\n",
       "      <th></th>\n",
       "      <th></th>\n",
       "      <th></th>\n",
       "      <th></th>\n",
       "      <th></th>\n",
       "      <th></th>\n",
       "      <th></th>\n",
       "      <th></th>\n",
       "      <th></th>\n",
       "      <th></th>\n",
       "      <th></th>\n",
       "      <th></th>\n",
       "      <th></th>\n",
       "      <th></th>\n",
       "    </tr>\n",
       "  </thead>\n",
       "  <tbody>\n",
       "    <tr>\n",
       "      <th>2022-08-05 04:00:00+00:00</th>\n",
       "      <td>102.81</td>\n",
       "      <td>102.83</td>\n",
       "      <td>102.52</td>\n",
       "      <td>102.71</td>\n",
       "      <td>4847064</td>\n",
       "      <td>16418</td>\n",
       "      <td>102.711038</td>\n",
       "      <td>409.68</td>\n",
       "      <td>414.15</td>\n",
       "      <td>409.6</td>\n",
       "      <td>413.47</td>\n",
       "      <td>56751151</td>\n",
       "      <td>455450</td>\n",
       "      <td>412.292366</td>\n",
       "    </tr>\n",
       "  </tbody>\n",
       "</table>\n",
       "</div>"
      ],
      "text/plain": [
       "                              AGG                                   \\\n",
       "                             open    high     low   close   volume   \n",
       "timestamp                                                            \n",
       "2022-08-05 04:00:00+00:00  102.81  102.83  102.52  102.71  4847064   \n",
       "\n",
       "                                                      SPY                 \\\n",
       "                          trade_count        vwap    open    high    low   \n",
       "timestamp                                                                  \n",
       "2022-08-05 04:00:00+00:00       16418  102.711038  409.68  414.15  409.6   \n",
       "\n",
       "                                                                     \n",
       "                            close    volume trade_count        vwap  \n",
       "timestamp                                                            \n",
       "2022-08-05 04:00:00+00:00  413.47  56751151      455450  412.292366  "
      ]
     },
     "execution_count": 132,
     "metadata": {},
     "output_type": "execute_result"
    }
   ],
   "source": [
    "df_port.head()\n"
   ]
  },
  {
   "cell_type": "code",
   "execution_count": 133,
   "id": "0fd57f74-4215-4838-a7f6-7feb7085563f",
   "metadata": {},
   "outputs": [],
   "source": [
    "#Create closing prices\n",
    "agg_close=float(df_port[\"AGG\"][\"close\"])\n",
    "spy_close=float(df_port[\"SPY\"][\"close\"])"
   ]
  },
  {
   "cell_type": "code",
   "execution_count": 134,
   "id": "6957f11d-2d88-4168-96bc-10158a045075",
   "metadata": {},
   "outputs": [
    {
     "name": "stdout",
     "output_type": "stream",
     "text": [
      "Current AGG closing price: $102.71\n",
      "Current SPY closing price: $413.47\n"
     ]
    }
   ],
   "source": [
    "#Closing prices for AGG and SPY\n",
    "print(f\"Current AGG closing price: ${agg_close}\")\n",
    "print(f\"Current SPY closing price: ${spy_close}\")"
   ]
  },
  {
   "cell_type": "code",
   "execution_count": 135,
   "id": "6edad8ba-afcd-485f-a78b-908fe414659b",
   "metadata": {},
   "outputs": [],
   "source": [
    "#current value of shares\n",
    "my_agg_value=(my_agg*agg_close)\n",
    "my_spy_value=(my_spy*spy_close)"
   ]
  },
  {
   "cell_type": "code",
   "execution_count": 136,
   "id": "5c188fc9-bc51-4169-80a7-55932906991a",
   "metadata": {},
   "outputs": [
    {
     "name": "stdout",
     "output_type": "stream",
     "text": [
      "The current value of your 50 SPY shares is $20673.5\n",
      "The current value of your 200 AGG shares is $20542.0\n"
     ]
    }
   ],
   "source": [
    "# Print current value of shares\n",
    "print(f\"The current value of your {my_spy} SPY shares is ${my_spy_value}\")\n",
    "print(f\"The current value of your {my_agg} AGG shares is ${my_agg_value}\")"
   ]
  },
  {
   "cell_type": "code",
   "execution_count": 155,
   "id": "d228ab3c-5213-4085-be44-d68b32de1a9d",
   "metadata": {},
   "outputs": [],
   "source": [
    "#Calculate total value of shares\n",
    "total_value_shares=(my_agg_value+my_spy_value)\n",
    "#Calculate total value of cyrpto\n",
    "total_value_cyrpto=(btc_value+eth_value)"
   ]
  },
  {
   "cell_type": "code",
   "execution_count": 156,
   "id": "e8580a32-087a-4104-8927-888538a80129",
   "metadata": {},
   "outputs": [],
   "source": [
    "#monthly household income\n",
    "monthly_income=12000"
   ]
  },
  {
   "cell_type": "code",
   "execution_count": 157,
   "id": "249e511b-156e-4213-a026-4e2f0951499a",
   "metadata": {},
   "outputs": [],
   "source": [
    "#total financial assets\n",
    "assets=[\"Cyrpto\",\"Shares\"]\n",
    "amount={\"amount\":[total_value_cyrpto,total_value_shares]}\n",
    "\n",
    "df_savings=pd.DataFrame(amount,index=assets)"
   ]
  },
  {
   "cell_type": "code",
   "execution_count": 158,
   "id": "94087859-7eec-4894-9ba2-1657b14c182f",
   "metadata": {},
   "outputs": [
    {
     "data": {
      "text/html": [
       "<div>\n",
       "<style scoped>\n",
       "    .dataframe tbody tr th:only-of-type {\n",
       "        vertical-align: middle;\n",
       "    }\n",
       "\n",
       "    .dataframe tbody tr th {\n",
       "        vertical-align: top;\n",
       "    }\n",
       "\n",
       "    .dataframe thead th {\n",
       "        text-align: right;\n",
       "    }\n",
       "</style>\n",
       "<table border=\"1\" class=\"dataframe\">\n",
       "  <thead>\n",
       "    <tr style=\"text-align: right;\">\n",
       "      <th></th>\n",
       "      <th>amount</th>\n",
       "    </tr>\n",
       "  </thead>\n",
       "  <tbody>\n",
       "    <tr>\n",
       "      <th>Cyrpto</th>\n",
       "      <td>36913.415</td>\n",
       "    </tr>\n",
       "    <tr>\n",
       "      <th>Shares</th>\n",
       "      <td>41215.500</td>\n",
       "    </tr>\n",
       "  </tbody>\n",
       "</table>\n",
       "</div>"
      ],
      "text/plain": [
       "           amount\n",
       "Cyrpto  36913.415\n",
       "Shares  41215.500"
      ]
     },
     "execution_count": 158,
     "metadata": {},
     "output_type": "execute_result"
    }
   ],
   "source": [
    "df_savings"
   ]
  },
  {
   "cell_type": "code",
   "execution_count": null,
   "id": "01cba252-3e48-44ce-8ccc-08d36fe6b90c",
   "metadata": {},
   "outputs": [
    {
     "data": {
      "text/plain": [
       "array([<AxesSubplot:ylabel='amount'>], dtype=object)"
      ]
     },
     "execution_count": 164,
     "metadata": {},
     "output_type": "execute_result"
    },
    {
     "data": {
      "image/png": "[encoded data removed]",
      "text/plain": [
       "<Figure size 432x288 with 1 Axes>"
      ]
     },
     "metadata": {},
     "output_type": "display_data"
    }
   ],
   "source": [
    "#Savings pie chart\n",
    "df_savings.plot(kind='pie',subplots=True)"
   ]
  },
  {
   "cell_type": "code",
   "execution_count": 165,
   "id": "dddce972-2e11-47d0-b249-bd44c418586b",
   "metadata": {},
   "outputs": [
    {
     "data": {
      "text/plain": [
       "36000"
      ]
     },
     "execution_count": 165,
     "metadata": {},
     "output_type": "execute_result"
    }
   ],
   "source": [
    "#Ideal emergency fund\n",
    "emergency_fund=monthly_income*3\n",
    "emergency_fund"
   ]
  },
  {
   "cell_type": "code",
   "execution_count": 166,
   "id": "94841f35-3179-4165-99ad-f3cba63698e4",
   "metadata": {},
   "outputs": [
    {
     "data": {
      "text/plain": [
       "78128.915"
      ]
     },
     "execution_count": 166,
     "metadata": {},
     "output_type": "execute_result"
    }
   ],
   "source": [
    "#total savings\n",
    "total_savings=total_value_cyrpto+total_value_shares\n",
    "total_savings"
   ]
  },
  {
   "cell_type": "code",
   "execution_count": null,
   "id": "53d4a9fd-9bb5-4d14-9328-053c9a41bc09",
   "metadata": {},
   "outputs": [],
   "source": [
    "#Validate savings health\n"
   ]
  }
 ],
 "metadata": {
  "kernelspec": {
   "display_name": "Python 3 (ipykernel)",
   "language": "python",
   "name": "python3"
  },
  "language_info": {
   "codemirror_mode": {
    "name": "ipython",
    "version": 3
   },
   "file_extension": ".py",
   "mimetype": "text/x-python",
   "name": "python",
   "nbconvert_exporter": "python",
   "pygments_lexer": "ipython3",
   "version": "3.7.13"
  }
 },
 "nbformat": 4,
 "nbformat_minor": 5
}
