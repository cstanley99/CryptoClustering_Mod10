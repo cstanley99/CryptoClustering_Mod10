{
 "cells": [
  {
   "cell_type": "code",
   "execution_count": 50,
   "id": "ce46207c-b993-43b0-8c34-b74943fbecf2",
   "metadata": {},
   "outputs": [],
   "source": [
    "# Initial imports\n",
    "import os\n",
    "import requests\n",
    "import pandas as pd\n",
    "from dotenv import load_dotenv\n",
    "import alpaca_trade_api as tradeapi\n",
    "\n",
    "%matplotlib inline"
   ]
  },
  {
   "cell_type": "code",
   "execution_count": 51,
   "id": "7d55813c-cee4-4c71-b563-3877e82763e3",
   "metadata": {},
   "outputs": [
    {
     "data": {
      "text/html": [
       "<div>\n",
       "<style scoped>\n",
       "    .dataframe tbody tr th:only-of-type {\n",
       "        vertical-align: middle;\n",
       "    }\n",
       "\n",
       "    .dataframe tbody tr th {\n",
       "        vertical-align: top;\n",
       "    }\n",
       "\n",
       "    .dataframe thead th {\n",
       "        text-align: right;\n",
       "    }\n",
       "</style>\n",
       "<table border=\"1\" class=\"dataframe\">\n",
       "  <thead>\n",
       "    <tr style=\"text-align: right;\">\n",
       "      <th></th>\n",
       "      <th>coins</th>\n",
       "    </tr>\n",
       "  </thead>\n",
       "  <tbody>\n",
       "    <tr>\n",
       "      <th>BTC</th>\n",
       "      <td>200</td>\n",
       "    </tr>\n",
       "    <tr>\n",
       "      <th>ETH</th>\n",
       "      <td>320</td>\n",
       "    </tr>\n",
       "  </tbody>\n",
       "</table>\n",
       "</div>"
      ],
      "text/plain": [
       "     coins\n",
       "BTC    200\n",
       "ETH    320"
      ]
     },
     "execution_count": 51,
     "metadata": {},
     "output_type": "execute_result"
    }
   ],
   "source": [
    "# Set current amount of shares data\n",
    "coin_data = {\"coins\": [200, 320]}\n",
    "\n",
    "# Set the crypto\n",
    "coins = [\"BTC\", \"ETH\"]\n",
    "\n",
    "# Create the shares DataFrame\n",
    "df_coins = pd.DataFrame(coin_data, index=coins)\n",
    "\n",
    "# Display coins data\n",
    "df_coins\n"
   ]
  },
  {
   "cell_type": "code",
   "execution_count": 57,
   "id": "0c86e3e1-2fec-4baa-b15a-d6f9bb1dde3f",
   "metadata": {},
   "outputs": [],
   "source": [
    "#set current amount of crypto assets\n",
    "my_btc = 1.2\n",
    "my_eth = 5.3"
   ]
  },
  {
   "cell_type": "code",
   "execution_count": 58,
   "id": "3f9ae579-4440-4fd2-8744-39f25f48751f",
   "metadata": {},
   "outputs": [
    {
     "data": {
      "text/plain": [
       "True"
      ]
     },
     "execution_count": 58,
     "metadata": {},
     "output_type": "execute_result"
    }
   ],
   "source": [
    "load_dotenv()"
   ]
  },
  {
   "cell_type": "code",
   "execution_count": 59,
   "id": "6eb258bb-a91f-4f14-90b8-1e690eec5822",
   "metadata": {},
   "outputs": [],
   "source": [
    "# Crypto API URLs\n",
    "btc_url = \"https://api.alternative.me/v2/ticker/Bitcoin/?convert=USD\"\n",
    "eth_url = \"https://api.alternative.me/v2/ticker/Ethereum/?convert=USD\""
   ]
  },
  {
   "cell_type": "code",
   "execution_count": null,
   "id": "a9bd726a-b12d-455b-989f-3f3c5a3d41c6",
   "metadata": {},
   "outputs": [],
   "source": []
  },
  {
   "cell_type": "code",
   "execution_count": 62,
   "id": "55b3fb3d-05aa-4d2a-826a-438dc5d2313d",
   "metadata": {},
   "outputs": [
    {
     "name": "stdout",
     "output_type": "stream",
     "text": [
      "b'{\\n\\t\"data\": {\\n\\t\\t\"1\": {\\n\\t\\t\\t\"id\": 1,\\n\\t\\t\\t\"name\": \"Bitcoin\",\\n\\t\\t\\t\"symbol\": \"BTC\",\\n\\t\\t\\t\"website_slug\": \"bitcoin\",\\n\\t\\t\\t\"rank\": 1,\\n\\t\\t\\t\"circulating_supply\": 19114306,\\n\\t\\t\\t\"total_supply\": 19114306,\\n\\t\\t\\t\"max_supply\": 21000000,\\n\\t\\t\\t\"quotes\": {\\n\\t\\t\\t\\t\"USD\": {\\n\\t\\t\\t\\t\\t\"price\": 23147.0000000000000000,\\n\\t\\t\\t\\t\\t\"volume_24h\": 15499806796,\\n\\t\\t\\t\\t\\t\"market_cap\": 442961003034,\\n\\t\\t\\t\\t\\t\"percentage_change_1h\": -0.1686958320628130,\\n\\t\\t\\t\\t\\t\"percentage_change_24h\": 0.8603628325920560,\\n\\t\\t\\t\\t\\t\"percentage_change_7d\": -2.9387884338516000,\\n\\t\\t\\t\\t\\t\"percent_change_1h\": -0.1686958320628130,\\n\\t\\t\\t\\t\\t\"percent_change_24h\": 0.8603628325920560,\\n\\t\\t\\t\\t\\t\"percent_change_7d\": -2.9387884338516000\\n\\t\\t\\t\\t}\\n\\t\\t\\t},\\n\\t\\t\\t\"last_updated\": 1659818094\\n\\t\\t}\\n\\t},\\n\\t\"metadata\": {\\n\\t\\t\"timestamp\": 1659818094,\\n\\t\\t\"num_cryptocurrencies\": 3116,\\n\\t\\t\"error\": null\\n\\t}\\n}'\n",
      "b'{\\n\\t\"data\": {\\n\\t\\t\"1027\": {\\n\\t\\t\\t\"id\": 1027,\\n\\t\\t\\t\"name\": \"Ethereum\",\\n\\t\\t\\t\"symbol\": \"ETH\",\\n\\t\\t\\t\"website_slug\": \"ethereum\",\\n\\t\\t\\t\"rank\": 2,\\n\\t\\t\\t\"circulating_supply\": 119989816,\\n\\t\\t\\t\"total_supply\": 119989816,\\n\\t\\t\\t\"max_supply\": 119989248,\\n\\t\\t\\t\"quotes\": {\\n\\t\\t\\t\\t\"USD\": {\\n\\t\\t\\t\\t\\t\"price\": 1710.8100000000000000,\\n\\t\\t\\t\\t\\t\"volume_24h\": 12214468738,\\n\\t\\t\\t\\t\\t\"market_cap\": 205421148482,\\n\\t\\t\\t\\t\\t\"percentage_change_1h\": -0.2499681943421610,\\n\\t\\t\\t\\t\\t\"percentage_change_24h\": 1.9778758729284200,\\n\\t\\t\\t\\t\\t\"percentage_change_7d\": -1.6234535763819800,\\n\\t\\t\\t\\t\\t\"percent_change_1h\": -0.2499681943421610,\\n\\t\\t\\t\\t\\t\"percent_change_24h\": 1.9778758729284200,\\n\\t\\t\\t\\t\\t\"percent_change_7d\": -1.6234535763819800\\n\\t\\t\\t\\t}\\n\\t\\t\\t},\\n\\t\\t\\t\"last_updated\": 1659818069\\n\\t\\t}\\n\\t},\\n\\t\"metadata\": {\\n\\t\\t\"timestamp\": 1659818069,\\n\\t\\t\"num_cryptocurrencies\": 3116,\\n\\t\\t\"error\": null\\n\\t}\\n}'\n"
     ]
    },
    {
     "data": {
      "text/plain": [
       "36843.693"
      ]
     },
     "execution_count": 62,
     "metadata": {},
     "output_type": "execute_result"
    }
   ],
   "source": [
    "# Fetch current BTC price\n",
    "response_data = requests.get(btc_url)\n",
    "\n",
    "response_content=response_data.content\n",
    "\n",
    "print(response_content)\n",
    "\n",
    "# Fetch current ETH price\n",
    "response_data = requests.get(eth_url)\n",
    "response_content=response_data.content\n",
    "print(response_content)\n",
    "\n",
    "# Compute current value of my crpto\n",
    "my_crypto = my_btc*(23147) + my_eth*(1710.81)\n",
    "my_crypto\n"
   ]
  },
  {
   "cell_type": "code",
   "execution_count": 65,
   "id": "cd371258-ecb9-4b81-aaf1-952a83244c7b",
   "metadata": {},
   "outputs": [
    {
     "ename": "AttributeError",
     "evalue": "'bytes' object has no attribute 'loc'",
     "output_type": "error",
     "traceback": [
      "\u001b[1;31m---------------------------------------------------------------------------\u001b[0m",
      "\u001b[1;31mAttributeError\u001b[0m                            Traceback (most recent call last)",
      "\u001b[1;32m~\\AppData\\Local\\Temp\\ipykernel_24680\\3747737159.py\u001b[0m in \u001b[0;36m<module>\u001b[1;34m\u001b[0m\n\u001b[1;32m----> 1\u001b[1;33m \u001b[0mresponse_content\u001b[0m\u001b[1;33m.\u001b[0m\u001b[0mloc\u001b[0m\u001b[1;33m[\u001b[0m\u001b[0mprice\u001b[0m\u001b[1;33m]\u001b[0m\u001b[1;33m\u001b[0m\u001b[1;33m\u001b[0m\u001b[0m\n\u001b[0m",
      "\u001b[1;31mAttributeError\u001b[0m: 'bytes' object has no attribute 'loc'"
     ]
    }
   ],
   "source": [
    "response_content[price]"
   ]
  },
  {
   "cell_type": "code",
   "execution_count": null,
   "id": "5e4c5a24-69ff-453d-b2bf-7fd4fafc5f1f",
   "metadata": {},
   "outputs": [],
   "source": []
  },
  {
   "cell_type": "code",
   "execution_count": null,
   "id": "79eca9c1-d5da-499d-96a7-62eb50fffa6f",
   "metadata": {},
   "outputs": [],
   "source": [
    "import requests\n",
    "import json\n",
    "\n",
    "# Create parameterized url\n",
    "request_url = \"http://numbersapi.com/42?json\"\n",
    "\n",
    "# Submit request and format output\n",
    "response_data = requests.get(request_url).json()\n",
    "print(json.dumps(response_data, indent=4))\n",
    "\n",
    "# Select fact \n",
    "response_data['text']"
   ]
  },
  {
   "cell_type": "code",
   "execution_count": null,
   "id": "590b4871-5aa2-4a89-926c-d8b02af43025",
   "metadata": {},
   "outputs": [],
   "source": []
  },
  {
   "cell_type": "code",
   "execution_count": null,
   "id": "53d90055-189e-4749-8dba-13cc08dc4653",
   "metadata": {},
   "outputs": [],
   "source": []
  },
  {
   "cell_type": "code",
   "execution_count": 32,
   "id": "7e396d02-8b59-456c-9fa1-b94d4035c42c",
   "metadata": {},
   "outputs": [],
   "source": [
    "#Alpaca API KEYs\n",
    "alpaca_api_key=os.getenv(\"ALPACA_API_KEY\")\n",
    "alpaca_secret_key=os.getenv(\"ALPACA_SECRET_KEY\")"
   ]
  },
  {
   "cell_type": "code",
   "execution_count": 33,
   "id": "4263d215-e922-4319-8763-7e5d0e8185c2",
   "metadata": {},
   "outputs": [],
   "source": [
    "#Alpaca API object\n",
    "alpaca=tradeapi.REST(alpaca_api_key,alpaca_secret_key,api_version=\"v2\")"
   ]
  },
  {
   "cell_type": "code",
   "execution_count": 34,
   "id": "ea240614-2f8c-4977-b2ca-b1ac1472d1c9",
   "metadata": {},
   "outputs": [],
   "source": [
    "#current date in ISO format\n",
    "today=pd.Timestamp(\"2022-08-05\",tz=\"US/Eastern\").isoformat()"
   ]
  },
  {
   "cell_type": "code",
   "execution_count": 35,
   "id": "bf5a8648-91a7-4354-a6c0-833fbad1aa10",
   "metadata": {},
   "outputs": [],
   "source": [
    "tickers=['AGG','SPY']"
   ]
  },
  {
   "cell_type": "code",
   "execution_count": 36,
   "id": "6166b739-9d8d-4df9-9a5b-20f079721611",
   "metadata": {},
   "outputs": [],
   "source": [
    "#Timeframe for Alpaca API\n",
    "timeframe='1day'"
   ]
  },
  {
   "cell_type": "code",
   "execution_count": 37,
   "id": "9dceae35-9031-4852-81a6-7baa06609887",
   "metadata": {},
   "outputs": [
    {
     "data": {
      "text/html": [
       "<div>\n",
       "<style scoped>\n",
       "    .dataframe tbody tr th:only-of-type {\n",
       "        vertical-align: middle;\n",
       "    }\n",
       "\n",
       "    .dataframe tbody tr th {\n",
       "        vertical-align: top;\n",
       "    }\n",
       "\n",
       "    .dataframe thead th {\n",
       "        text-align: right;\n",
       "    }\n",
       "</style>\n",
       "<table border=\"1\" class=\"dataframe\">\n",
       "  <thead>\n",
       "    <tr style=\"text-align: right;\">\n",
       "      <th></th>\n",
       "      <th>open</th>\n",
       "      <th>high</th>\n",
       "      <th>low</th>\n",
       "      <th>close</th>\n",
       "      <th>volume</th>\n",
       "      <th>trade_count</th>\n",
       "      <th>vwap</th>\n",
       "      <th>symbol</th>\n",
       "    </tr>\n",
       "    <tr>\n",
       "      <th>timestamp</th>\n",
       "      <th></th>\n",
       "      <th></th>\n",
       "      <th></th>\n",
       "      <th></th>\n",
       "      <th></th>\n",
       "      <th></th>\n",
       "      <th></th>\n",
       "      <th></th>\n",
       "    </tr>\n",
       "  </thead>\n",
       "  <tbody>\n",
       "    <tr>\n",
       "      <th>2022-08-05 04:00:00+00:00</th>\n",
       "      <td>102.81</td>\n",
       "      <td>102.83</td>\n",
       "      <td>102.52</td>\n",
       "      <td>102.71</td>\n",
       "      <td>4847064</td>\n",
       "      <td>16418</td>\n",
       "      <td>102.711038</td>\n",
       "      <td>AGG</td>\n",
       "    </tr>\n",
       "    <tr>\n",
       "      <th>2022-08-05 04:00:00+00:00</th>\n",
       "      <td>409.68</td>\n",
       "      <td>414.15</td>\n",
       "      <td>409.60</td>\n",
       "      <td>413.47</td>\n",
       "      <td>56751151</td>\n",
       "      <td>455450</td>\n",
       "      <td>412.292366</td>\n",
       "      <td>SPY</td>\n",
       "    </tr>\n",
       "  </tbody>\n",
       "</table>\n",
       "</div>"
      ],
      "text/plain": [
       "                             open    high     low   close    volume  \\\n",
       "timestamp                                                             \n",
       "2022-08-05 04:00:00+00:00  102.81  102.83  102.52  102.71   4847064   \n",
       "2022-08-05 04:00:00+00:00  409.68  414.15  409.60  413.47  56751151   \n",
       "\n",
       "                           trade_count        vwap symbol  \n",
       "timestamp                                                  \n",
       "2022-08-05 04:00:00+00:00        16418  102.711038    AGG  \n",
       "2022-08-05 04:00:00+00:00       455450  412.292366    SPY  "
      ]
     },
     "execution_count": 37,
     "metadata": {},
     "output_type": "execute_result"
    }
   ],
   "source": [
    "#closing prices for AGG,SPY\n",
    "df_port=alpaca.get_bars(tickers,timeframe,start=today,end=today).df\n",
    "df_port.head()                      "
   ]
  },
  {
   "cell_type": "code",
   "execution_count": 38,
   "id": "171a847a-2b66-47b7-9f29-0dd00fad9dbd",
   "metadata": {},
   "outputs": [],
   "source": [
    "#Seperate tickers\n",
    "AGG=df_port[df_port['symbol']=='AGG'].drop('symbol',axis=1)\n",
    "SPY=df_port[df_port['symbol']=='SPY'].drop('symbol',axis=1)"
   ]
  },
  {
   "cell_type": "code",
   "execution_count": 39,
   "id": "67d62aa0-f2ca-4e04-b257-165d12e1d8ac",
   "metadata": {},
   "outputs": [
    {
     "data": {
      "text/html": [
       "<div>\n",
       "<style scoped>\n",
       "    .dataframe tbody tr th:only-of-type {\n",
       "        vertical-align: middle;\n",
       "    }\n",
       "\n",
       "    .dataframe tbody tr th {\n",
       "        vertical-align: top;\n",
       "    }\n",
       "\n",
       "    .dataframe thead tr th {\n",
       "        text-align: left;\n",
       "    }\n",
       "\n",
       "    .dataframe thead tr:last-of-type th {\n",
       "        text-align: right;\n",
       "    }\n",
       "</style>\n",
       "<table border=\"1\" class=\"dataframe\">\n",
       "  <thead>\n",
       "    <tr>\n",
       "      <th></th>\n",
       "      <th colspan=\"7\" halign=\"left\">AGG</th>\n",
       "      <th colspan=\"7\" halign=\"left\">SPY</th>\n",
       "    </tr>\n",
       "    <tr>\n",
       "      <th></th>\n",
       "      <th>open</th>\n",
       "      <th>high</th>\n",
       "      <th>low</th>\n",
       "      <th>close</th>\n",
       "      <th>volume</th>\n",
       "      <th>trade_count</th>\n",
       "      <th>vwap</th>\n",
       "      <th>open</th>\n",
       "      <th>high</th>\n",
       "      <th>low</th>\n",
       "      <th>close</th>\n",
       "      <th>volume</th>\n",
       "      <th>trade_count</th>\n",
       "      <th>vwap</th>\n",
       "    </tr>\n",
       "    <tr>\n",
       "      <th>timestamp</th>\n",
       "      <th></th>\n",
       "      <th></th>\n",
       "      <th></th>\n",
       "      <th></th>\n",
       "      <th></th>\n",
       "      <th></th>\n",
       "      <th></th>\n",
       "      <th></th>\n",
       "      <th></th>\n",
       "      <th></th>\n",
       "      <th></th>\n",
       "      <th></th>\n",
       "      <th></th>\n",
       "      <th></th>\n",
       "    </tr>\n",
       "  </thead>\n",
       "  <tbody>\n",
       "    <tr>\n",
       "      <th>2022-08-05 04:00:00+00:00</th>\n",
       "      <td>102.81</td>\n",
       "      <td>102.83</td>\n",
       "      <td>102.52</td>\n",
       "      <td>102.71</td>\n",
       "      <td>4847064</td>\n",
       "      <td>16418</td>\n",
       "      <td>102.711038</td>\n",
       "      <td>409.68</td>\n",
       "      <td>414.15</td>\n",
       "      <td>409.6</td>\n",
       "      <td>413.47</td>\n",
       "      <td>56751151</td>\n",
       "      <td>455450</td>\n",
       "      <td>412.292366</td>\n",
       "    </tr>\n",
       "  </tbody>\n",
       "</table>\n",
       "</div>"
      ],
      "text/plain": [
       "                              AGG                                   \\\n",
       "                             open    high     low   close   volume   \n",
       "timestamp                                                            \n",
       "2022-08-05 04:00:00+00:00  102.81  102.83  102.52  102.71  4847064   \n",
       "\n",
       "                                                      SPY                 \\\n",
       "                          trade_count        vwap    open    high    low   \n",
       "timestamp                                                                  \n",
       "2022-08-05 04:00:00+00:00       16418  102.711038  409.68  414.15  409.6   \n",
       "\n",
       "                                                                     \n",
       "                            close    volume trade_count        vwap  \n",
       "timestamp                                                            \n",
       "2022-08-05 04:00:00+00:00  413.47  56751151      455450  412.292366  "
      ]
     },
     "execution_count": 39,
     "metadata": {},
     "output_type": "execute_result"
    }
   ],
   "source": [
    "df_port=pd.concat([AGG,SPY], axis=1, keys=['AGG','SPY'])\n",
    "df_port"
   ]
  },
  {
   "cell_type": "code",
   "execution_count": 47,
   "id": "58353031-44e0-4f28-803b-ef26b13c34fe",
   "metadata": {},
   "outputs": [],
   "source": [
    "agg_close=float(df_port[\"AGG\"][\"close\"])\n",
    "spy_close=float(df_port[\"SPY\"][\"close\"])"
   ]
  },
  {
   "cell_type": "code",
   "execution_count": 49,
   "id": "d5d3a5f6-2521-4f7c-9873-0bdef85c5d8f",
   "metadata": {},
   "outputs": [
    {
     "data": {
      "text/plain": [
       "413.47"
      ]
     },
     "execution_count": 49,
     "metadata": {},
     "output_type": "execute_result"
    }
   ],
   "source": [
    "spy_close"
   ]
  },
  {
   "cell_type": "code",
   "execution_count": 40,
   "id": "b48e0f54-8de5-4e17-bd89-304670a89d80",
   "metadata": {},
   "outputs": [],
   "source": [
    "df_close=pd.DataFrame()"
   ]
  },
  {
   "cell_type": "code",
   "execution_count": 41,
   "id": "5fd19db8-2f2a-40f8-98d7-7b2512c4c2b9",
   "metadata": {},
   "outputs": [
    {
     "data": {
      "text/html": [
       "<div>\n",
       "<style scoped>\n",
       "    .dataframe tbody tr th:only-of-type {\n",
       "        vertical-align: middle;\n",
       "    }\n",
       "\n",
       "    .dataframe tbody tr th {\n",
       "        vertical-align: top;\n",
       "    }\n",
       "\n",
       "    .dataframe thead th {\n",
       "        text-align: right;\n",
       "    }\n",
       "</style>\n",
       "<table border=\"1\" class=\"dataframe\">\n",
       "  <thead>\n",
       "    <tr style=\"text-align: right;\">\n",
       "      <th></th>\n",
       "      <th>AGG</th>\n",
       "      <th>SPY</th>\n",
       "    </tr>\n",
       "  </thead>\n",
       "  <tbody>\n",
       "    <tr>\n",
       "      <th>2022-08-05</th>\n",
       "      <td>102.71</td>\n",
       "      <td>413.47</td>\n",
       "    </tr>\n",
       "  </tbody>\n",
       "</table>\n",
       "</div>"
      ],
      "text/plain": [
       "               AGG     SPY\n",
       "2022-08-05  102.71  413.47"
      ]
     },
     "execution_count": 41,
     "metadata": {},
     "output_type": "execute_result"
    }
   ],
   "source": [
    "df_close[\"AGG\"] = df_port[\"AGG\"][\"close\"]\n",
    "df_close[\"SPY\"] = df_port[\"SPY\"][\"close\"]\n",
    "df_close.index=df_close.index.date\n",
    "df_close.head()"
   ]
  },
  {
   "cell_type": "code",
   "execution_count": 43,
   "id": "35052ff2-07da-4979-ad7d-001487b4fe89",
   "metadata": {},
   "outputs": [
    {
     "data": {
      "text/plain": [
       "AGG    102.71\n",
       "SPY    413.47\n",
       "Name: 2022-08-05, dtype: float64"
      ]
     },
     "execution_count": 43,
     "metadata": {},
     "output_type": "execute_result"
    }
   ],
   "source": [
    "df_close.iloc[0]"
   ]
  },
  {
   "cell_type": "code",
   "execution_count": 46,
   "id": "f85c92f9-c097-4ea7-a87e-7f9ebfe1406a",
   "metadata": {},
   "outputs": [
    {
     "name": "stdout",
     "output_type": "stream",
     "text": [
      "Current AGG closing price: $AGG    102.71\n",
      "SPY    413.47\n",
      "Name: 2022-08-05, dtype: float64\n",
      "Current SPY closing price: $2022-08-05    413.47\n",
      "Name: SPY, dtype: float64\n"
     ]
    }
   ],
   "source": [
    "print(f\"Current AGG closing price: ${df_close.iloc[0]}\")\n",
    "print(f\"Current SPY closing price: ${spy_closing_price}\")"
   ]
  },
  {
   "cell_type": "code",
   "execution_count": 44,
   "id": "1c119042-201e-4b36-866b-e579aaa97a65",
   "metadata": {},
   "outputs": [],
   "source": [
    "#Closing prices for AGG and SPY\n",
    "agg_closing_price=df_close['AGG']\n",
    "spy_closing_price=df_close['SPY']\n"
   ]
  },
  {
   "cell_type": "code",
   "execution_count": 45,
   "id": "53a558ab-8596-45b0-b459-4789b65d9266",
   "metadata": {},
   "outputs": [
    {
     "name": "stdout",
     "output_type": "stream",
     "text": [
      "Current AGG closing price: $2022-08-05    102.71\n",
      "Name: AGG, dtype: float64\n",
      "Current SPY closing price: $2022-08-05    413.47\n",
      "Name: SPY, dtype: float64\n"
     ]
    }
   ],
   "source": [
    "print(f\"Current AGG closing price: ${agg_closing_price}\")\n",
    "print(f\"Current SPY closing price: ${spy_closing_price}\")"
   ]
  },
  {
   "cell_type": "code",
   "execution_count": null,
   "id": "dd185acf-c183-4d74-ac71-672b5a330799",
   "metadata": {},
   "outputs": [],
   "source": []
  }
 ],
 "metadata": {
  "kernelspec": {
   "display_name": "Python 3 (ipykernel)",
   "language": "python",
   "name": "python3"
  },
  "language_info": {
   "codemirror_mode": {
    "name": "ipython",
    "version": 3
   },
   "file_extension": ".py",
   "mimetype": "text/x-python",
   "name": "python",
   "nbconvert_exporter": "python",
   "pygments_lexer": "ipython3",
   "version": "3.7.13"
  }
 },
 "nbformat": 4,
 "nbformat_minor": 5
}
