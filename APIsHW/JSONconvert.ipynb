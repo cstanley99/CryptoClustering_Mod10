{
 "cells": [
  {
   "cell_type": "code",
   "execution_count": 55,
   "id": "f2e68dcf-5daf-4dfe-9e8e-85f41443aca4",
   "metadata": {},
   "outputs": [],
   "source": [
    "import requests\n",
    "# Crypto API URLs\n",
    "btc_url = \"https://api.alternative.me/v2/ticker/Bitcoin/?convert=USD\""
   ]
  },
  {
   "cell_type": "code",
   "execution_count": 61,
   "id": "c2b44301-1359-4c31-acb1-fb81aba97d84",
   "metadata": {},
   "outputs": [],
   "source": [
    "#Convert btc_url to JSON format\n",
    "import json\n",
    "btc_url=btc_url + \"?format=json\"\n",
    "#Use requests to gather data\n",
    "requests.get(btc_url)\n",
    "response_data=requests.get(btc_url)\n",
    "btc_content=response_data.content"
   ]
  },
  {
   "cell_type": "code",
   "execution_count": 62,
   "id": "46414d80-10c7-44ba-9b35-cc00fb2e6fcd",
   "metadata": {},
   "outputs": [
    {
     "name": "stdout",
     "output_type": "stream",
     "text": [
      "{\n",
      "    \"data\": {\n",
      "        \"1\": {\n",
      "            \"id\": 1,\n",
      "            \"name\": \"Bitcoin\",\n",
      "            \"symbol\": \"BTC\",\n",
      "            \"website_slug\": \"bitcoin\",\n",
      "            \"rank\": 1,\n",
      "            \"circulating_supply\": 19114362,\n",
      "            \"total_supply\": 19114362,\n",
      "            \"max_supply\": 21000000,\n",
      "            \"quotes\": {\n",
      "                \"USD\": {\n",
      "                    \"price\": 23180.0,\n",
      "                    \"volume_24h\": 14342641686,\n",
      "                    \"market_cap\": 443008337048,\n",
      "                    \"percentage_change_1h\": -0.161006315408823,\n",
      "                    \"percentage_change_24h\": -0.0687618587868129,\n",
      "                    \"percentage_change_7d\": -2.79772040971215,\n",
      "                    \"percent_change_1h\": -0.161006315408823,\n",
      "                    \"percent_change_24h\": -0.0687618587868129,\n",
      "                    \"percent_change_7d\": -2.79772040971215\n",
      "                }\n",
      "            },\n",
      "            \"last_updated\": 1659824615\n",
      "        }\n",
      "    },\n",
      "    \"metadata\": {\n",
      "        \"timestamp\": 1659824615,\n",
      "        \"num_cryptocurrencies\": 3116,\n",
      "        \"error\": null\n",
      "    }\n",
      "}\n"
     ]
    }
   ],
   "source": [
    "btc_data=response_data.json()\n",
    "print(json.dumps(btc_data,indent=4))"
   ]
  },
  {
   "cell_type": "code",
   "execution_count": 63,
   "id": "aa69c77c-025d-40cf-8b98-227cb20b2ebd",
   "metadata": {},
   "outputs": [
    {
     "name": "stdout",
     "output_type": "stream",
     "text": [
      "23180.0\n"
     ]
    }
   ],
   "source": [
    "btc_price=btc_data[\"data\"][\"1\"][\"quotes\"][\"USD\"][\"price\"]\n",
    "print(btc_price)\n",
    "                "
   ]
  },
  {
   "cell_type": "code",
   "execution_count": 64,
   "id": "af9cbede-faaa-41b0-98b0-ee42ed900857",
   "metadata": {},
   "outputs": [],
   "source": [
    "import json"
   ]
  },
  {
   "cell_type": "code",
   "execution_count": 65,
   "id": "c20b8976-8b5b-4bf1-9539-c87271f2b605",
   "metadata": {},
   "outputs": [],
   "source": [
    "eth_url = \"https://api.alternative.me/v2/ticker/Ethereum/?convert=USD\""
   ]
  },
  {
   "cell_type": "code",
   "execution_count": 66,
   "id": "86a1169b-9633-4ef2-be14-db0a06980f02",
   "metadata": {},
   "outputs": [],
   "source": [
    "eth_url=eth_url+\"?format=json\"\n",
    "requests.get(eth_url)\n",
    "response_data=requests.get(eth_url)\n",
    "response_content=response_data.content"
   ]
  },
  {
   "cell_type": "code",
   "execution_count": 67,
   "id": "88b257a4-e243-4268-b40c-f7cec888afde",
   "metadata": {},
   "outputs": [
    {
     "data": {
      "text/plain": [
       "b'{\\n\\t\"data\": {\\n\\t\\t\"1027\": {\\n\\t\\t\\t\"id\": 1027,\\n\\t\\t\\t\"name\": \"Ethereum\",\\n\\t\\t\\t\"symbol\": \"ETH\",\\n\\t\\t\\t\"website_slug\": \"ethereum\",\\n\\t\\t\\t\"rank\": 2,\\n\\t\\t\\t\"circulating_supply\": 119990908,\\n\\t\\t\\t\"total_supply\": 119990908,\\n\\t\\t\\t\"max_supply\": 119990908,\\n\\t\\t\\t\"quotes\": {\\n\\t\\t\\t\\t\"USD\": {\\n\\t\\t\\t\\t\\t\"price\": 1715.0100000000000000,\\n\\t\\t\\t\\t\\t\"volume_24h\": 11552421525,\\n\\t\\t\\t\\t\\t\"market_cap\": 205682066519,\\n\\t\\t\\t\\t\\t\"percentage_change_1h\": -0.0203451972944021,\\n\\t\\t\\t\\t\\t\"percentage_change_24h\": 0.3097316293377780,\\n\\t\\t\\t\\t\\t\"percentage_change_7d\": -1.3820849879620000,\\n\\t\\t\\t\\t\\t\"percent_change_1h\": -0.0203451972944021,\\n\\t\\t\\t\\t\\t\"percent_change_24h\": 0.3097316293377780,\\n\\t\\t\\t\\t\\t\"percent_change_7d\": -1.3820849879620000\\n\\t\\t\\t\\t}\\n\\t\\t\\t},\\n\\t\\t\\t\"last_updated\": 1659825580\\n\\t\\t}\\n\\t},\\n\\t\"metadata\": {\\n\\t\\t\"timestamp\": 1659825580,\\n\\t\\t\"num_cryptocurrencies\": 3116,\\n\\t\\t\"error\": null\\n\\t}\\n}'"
      ]
     },
     "execution_count": 67,
     "metadata": {},
     "output_type": "execute_result"
    }
   ],
   "source": [
    "response_content"
   ]
  },
  {
   "cell_type": "code",
   "execution_count": 68,
   "id": "faf70860-4afb-4e74-afd0-bbc674f73d4a",
   "metadata": {},
   "outputs": [
    {
     "name": "stdout",
     "output_type": "stream",
     "text": [
      "{'data': {'1027': {'id': 1027, 'name': 'Ethereum', 'symbol': 'ETH', 'website_slug': 'ethereum', 'rank': 2, 'circulating_supply': 119990908, 'total_supply': 119990908, 'max_supply': 119990908, 'quotes': {'USD': {'price': 1715.01, 'volume_24h': 11552421525, 'market_cap': 205682066519, 'percentage_change_1h': -0.0203451972944021, 'percentage_change_24h': 0.309731629337778, 'percentage_change_7d': -1.382084987962, 'percent_change_1h': -0.0203451972944021, 'percent_change_24h': 0.309731629337778, 'percent_change_7d': -1.382084987962}}, 'last_updated': 1659825580}}, 'metadata': {'timestamp': 1659825580, 'num_cryptocurrencies': 3116, 'error': None}}\n",
      "{\n",
      "    \"data\": {\n",
      "        \"1027\": {\n",
      "            \"id\": 1027,\n",
      "            \"name\": \"Ethereum\",\n",
      "            \"symbol\": \"ETH\",\n",
      "            \"website_slug\": \"ethereum\",\n",
      "            \"rank\": 2,\n",
      "            \"circulating_supply\": 119990908,\n",
      "            \"total_supply\": 119990908,\n",
      "            \"max_supply\": 119990908,\n",
      "            \"quotes\": {\n",
      "                \"USD\": {\n",
      "                    \"price\": 1715.01,\n",
      "                    \"volume_24h\": 11552421525,\n",
      "                    \"market_cap\": 205682066519,\n",
      "                    \"percentage_change_1h\": -0.0203451972944021,\n",
      "                    \"percentage_change_24h\": 0.309731629337778,\n",
      "                    \"percentage_change_7d\": -1.382084987962,\n",
      "                    \"percent_change_1h\": -0.0203451972944021,\n",
      "                    \"percent_change_24h\": 0.309731629337778,\n",
      "                    \"percent_change_7d\": -1.382084987962\n",
      "                }\n",
      "            },\n",
      "            \"last_updated\": 1659825580\n",
      "        }\n",
      "    },\n",
      "    \"metadata\": {\n",
      "        \"timestamp\": 1659825580,\n",
      "        \"num_cryptocurrencies\": 3116,\n",
      "        \"error\": null\n",
      "    }\n",
      "}\n"
     ]
    }
   ],
   "source": [
    "import json\n",
    "eth_data=response_data.json()\n",
    "print(eth_data)\n",
    "\n",
    "print(json.dumps(eth_data,indent=4))"
   ]
  },
  {
   "cell_type": "code",
   "execution_count": 54,
   "id": "cf748273-e5f1-42a5-a667-5853e6ea917d",
   "metadata": {},
   "outputs": [
    {
     "name": "stdout",
     "output_type": "stream",
     "text": [
      "1717.28\n"
     ]
    }
   ],
   "source": [
    "eth_price=eth_data['data']['1027']['quotes']['USD']['price']\n",
    "print(eth_price)"
   ]
  },
  {
   "cell_type": "code",
   "execution_count": null,
   "id": "5850172f-16b5-4077-9e8b-f8958bf87db4",
   "metadata": {},
   "outputs": [],
   "source": []
  }
 ],
 "metadata": {
  "kernelspec": {
   "display_name": "Python 3 (ipykernel)",
   "language": "python",
   "name": "python3"
  },
  "language_info": {
   "codemirror_mode": {
    "name": "ipython",
    "version": 3
   },
   "file_extension": ".py",
   "mimetype": "text/x-python",
   "name": "python",
   "nbconvert_exporter": "python",
   "pygments_lexer": "ipython3",
   "version": "3.7.13"
  }
 },
 "nbformat": 4,
 "nbformat_minor": 5
}
